{
 "cells": [
  {
   "cell_type": "code",
   "execution_count": 1,
   "id": "fd6b9825",
   "metadata": {},
   "outputs": [
    {
     "data": {
      "text/html": [
       "<div>\n",
       "<style scoped>\n",
       "    .dataframe tbody tr th:only-of-type {\n",
       "        vertical-align: middle;\n",
       "    }\n",
       "\n",
       "    .dataframe tbody tr th {\n",
       "        vertical-align: top;\n",
       "    }\n",
       "\n",
       "    .dataframe thead th {\n",
       "        text-align: right;\n",
       "    }\n",
       "</style>\n",
       "<table border=\"1\" class=\"dataframe\">\n",
       "  <thead>\n",
       "    <tr style=\"text-align: right;\">\n",
       "      <th></th>\n",
       "      <th>Elevation</th>\n",
       "      <th>Slope</th>\n",
       "      <th>Aspect</th>\n",
       "      <th>Plan Curvature</th>\n",
       "      <th>Profile Curvature</th>\n",
       "      <th>Topographic Wetness Index</th>\n",
       "      <th>Terrain Roughness Index</th>\n",
       "      <th>Topographic Position Index</th>\n",
       "      <th>Proximity to Road</th>\n",
       "      <th>Proximity to Stream</th>\n",
       "      <th>Avarage Wind Speed</th>\n",
       "      <th>Average Min Temperature</th>\n",
       "      <th>Average Max Temperature</th>\n",
       "      <th>Avarage Solar Radiation</th>\n",
       "      <th>Annual Precipitation</th>\n",
       "      <th>Annual Mean Temperature</th>\n",
       "      <th>Lithology</th>\n",
       "      <th>Land Use</th>\n",
       "    </tr>\n",
       "  </thead>\n",
       "  <tbody>\n",
       "    <tr>\n",
       "      <th>0</th>\n",
       "      <td>397.661</td>\n",
       "      <td>1.86984</td>\n",
       "      <td>150.3480</td>\n",
       "      <td>-0.696026</td>\n",
       "      <td>-1.696030</td>\n",
       "      <td>5.58877</td>\n",
       "      <td>0.753963</td>\n",
       "      <td>0.170013</td>\n",
       "      <td>0.0000</td>\n",
       "      <td>180.000</td>\n",
       "      <td>1.45833</td>\n",
       "      <td>5.85833</td>\n",
       "      <td>15.683300</td>\n",
       "      <td>1246</td>\n",
       "      <td>856</td>\n",
       "      <td>10.77080</td>\n",
       "      <td>4</td>\n",
       "      <td>1</td>\n",
       "    </tr>\n",
       "    <tr>\n",
       "      <th>1</th>\n",
       "      <td>2888.440</td>\n",
       "      <td>8.87478</td>\n",
       "      <td>62.6067</td>\n",
       "      <td>-0.058109</td>\n",
       "      <td>-0.055179</td>\n",
       "      <td>7.81560</td>\n",
       "      <td>0.511951</td>\n",
       "      <td>-0.000488</td>\n",
       "      <td>101.9800</td>\n",
       "      <td>601.664</td>\n",
       "      <td>4.10000</td>\n",
       "      <td>-6.37500</td>\n",
       "      <td>-0.208333</td>\n",
       "      <td>1375</td>\n",
       "      <td>919</td>\n",
       "      <td>-3.29167</td>\n",
       "      <td>2</td>\n",
       "      <td>4</td>\n",
       "    </tr>\n",
       "    <tr>\n",
       "      <th>2</th>\n",
       "      <td>2428.890</td>\n",
       "      <td>53.92650</td>\n",
       "      <td>48.9862</td>\n",
       "      <td>0.188772</td>\n",
       "      <td>1.237600</td>\n",
       "      <td>3.83647</td>\n",
       "      <td>0.474788</td>\n",
       "      <td>-0.084961</td>\n",
       "      <td>332.8660</td>\n",
       "      <td>310.483</td>\n",
       "      <td>3.50000</td>\n",
       "      <td>-5.42500</td>\n",
       "      <td>2.208330</td>\n",
       "      <td>1364</td>\n",
       "      <td>776</td>\n",
       "      <td>-1.60833</td>\n",
       "      <td>3</td>\n",
       "      <td>4</td>\n",
       "    </tr>\n",
       "    <tr>\n",
       "      <th>3</th>\n",
       "      <td>1426.840</td>\n",
       "      <td>27.44680</td>\n",
       "      <td>346.3760</td>\n",
       "      <td>-0.178917</td>\n",
       "      <td>-0.016808</td>\n",
       "      <td>8.62269</td>\n",
       "      <td>0.517806</td>\n",
       "      <td>-0.015015</td>\n",
       "      <td>89.4427</td>\n",
       "      <td>655.134</td>\n",
       "      <td>2.26667</td>\n",
       "      <td>-0.97500</td>\n",
       "      <td>9.125000</td>\n",
       "      <td>1333</td>\n",
       "      <td>549</td>\n",
       "      <td>4.07500</td>\n",
       "      <td>3</td>\n",
       "      <td>2</td>\n",
       "    </tr>\n",
       "    <tr>\n",
       "      <th>4</th>\n",
       "      <td>2734.600</td>\n",
       "      <td>210.92400</td>\n",
       "      <td>328.2510</td>\n",
       "      <td>9.022960</td>\n",
       "      <td>4.153820</td>\n",
       "      <td>1.96191</td>\n",
       "      <td>0.433734</td>\n",
       "      <td>0.495117</td>\n",
       "      <td>452.5480</td>\n",
       "      <td>120.000</td>\n",
       "      <td>3.55833</td>\n",
       "      <td>-4.97500</td>\n",
       "      <td>1.783330</td>\n",
       "      <td>1342</td>\n",
       "      <td>931</td>\n",
       "      <td>-1.59583</td>\n",
       "      <td>3</td>\n",
       "      <td>4</td>\n",
       "    </tr>\n",
       "  </tbody>\n",
       "</table>\n",
       "</div>"
      ],
      "text/plain": [
       "   Elevation      Slope    Aspect  Plan Curvature  Profile Curvature  \\\n",
       "0    397.661    1.86984  150.3480       -0.696026          -1.696030   \n",
       "1   2888.440    8.87478   62.6067       -0.058109          -0.055179   \n",
       "2   2428.890   53.92650   48.9862        0.188772           1.237600   \n",
       "3   1426.840   27.44680  346.3760       -0.178917          -0.016808   \n",
       "4   2734.600  210.92400  328.2510        9.022960           4.153820   \n",
       "\n",
       "   Topographic Wetness Index  Terrain Roughness Index  \\\n",
       "0                    5.58877                 0.753963   \n",
       "1                    7.81560                 0.511951   \n",
       "2                    3.83647                 0.474788   \n",
       "3                    8.62269                 0.517806   \n",
       "4                    1.96191                 0.433734   \n",
       "\n",
       "   Topographic Position Index  Proximity to Road  Proximity to Stream  \\\n",
       "0                    0.170013             0.0000              180.000   \n",
       "1                   -0.000488           101.9800              601.664   \n",
       "2                   -0.084961           332.8660              310.483   \n",
       "3                   -0.015015            89.4427              655.134   \n",
       "4                    0.495117           452.5480              120.000   \n",
       "\n",
       "   Avarage Wind Speed  Average Min Temperature  Average Max Temperature  \\\n",
       "0             1.45833                  5.85833                15.683300   \n",
       "1             4.10000                 -6.37500                -0.208333   \n",
       "2             3.50000                 -5.42500                 2.208330   \n",
       "3             2.26667                 -0.97500                 9.125000   \n",
       "4             3.55833                 -4.97500                 1.783330   \n",
       "\n",
       "   Avarage Solar Radiation  Annual Precipitation  Annual Mean Temperature  \\\n",
       "0                     1246                   856                 10.77080   \n",
       "1                     1375                   919                 -3.29167   \n",
       "2                     1364                   776                 -1.60833   \n",
       "3                     1333                   549                  4.07500   \n",
       "4                     1342                   931                 -1.59583   \n",
       "\n",
       "   Lithology  Land Use  \n",
       "0          4         1  \n",
       "1          2         4  \n",
       "2          3         4  \n",
       "3          3         2  \n",
       "4          3         4  "
      ]
     },
     "execution_count": 1,
     "metadata": {},
     "output_type": "execute_result"
    }
   ],
   "source": [
    "import numpy as np\n",
    "import pandas as pd\n",
    "df = pd.read_excel(\"avalanches.xlsx\")\n",
    "df=df.drop(\"Inv ID\", 1)\n",
    "df=df.drop(\"inventory\", 1)\n",
    "df.head()"
   ]
  },
  {
   "cell_type": "code",
   "execution_count": 2,
   "id": "95ac17fb",
   "metadata": {},
   "outputs": [
    {
     "name": "stdout",
     "output_type": "stream",
     "text": [
      "4    1622\n",
      "3     792\n",
      "5     735\n",
      "2     318\n",
      "1     250\n",
      "6      45\n",
      "Name: Elevation, dtype: int64\n",
      "[ 194.283055    798.20916667 1398.53333333 1998.8575     2599.18166667\n",
      " 3199.50583333 3799.83      ]\n"
     ]
    }
   ],
   "source": [
    "cats, bins = pd.cut(df.Elevation, 6, retbins=True, )\n",
    "classes = [1, 2, 3, 4, 5, 6]\n",
    "category = pd.cut(df.Elevation,bins=bins,labels=classes, ordered=False)\n",
    "df=df.drop(['Elevation'], axis=1)\n",
    "df.insert(0,'Elevation',category)\n",
    "print(df[\"Elevation\"].value_counts())\n",
    "print(bins)"
   ]
  },
  {
   "cell_type": "code",
   "execution_count": 3,
   "id": "23748a9a",
   "metadata": {},
   "outputs": [
    {
     "name": "stdout",
     "output_type": "stream",
     "text": [
      "1    3508\n",
      "2     229\n",
      "3      21\n",
      "4       3\n",
      "6       1\n",
      "5       0\n",
      "Name: Slope, dtype: int64\n",
      "[ -0.728939   121.48983333 242.97966667 364.4695     485.95933333\n",
      " 607.44916667 728.939     ]\n"
     ]
    }
   ],
   "source": [
    "cats, bins = pd.cut(df.Slope, 6, retbins=True)\n",
    "classes = [1, 2, 3, 4, 5, 6]\n",
    "category = pd.cut(df.Slope,bins=bins,labels=classes, ordered=False)\n",
    "df=df.drop(['Slope'], axis=1)\n",
    "df.insert(1,'Slope',category)\n",
    "print(df[\"Slope\"].value_counts())\n",
    "print(bins)"
   ]
  },
  {
   "cell_type": "code",
   "execution_count": 4,
   "id": "ba2a6a0e",
   "metadata": {},
   "outputs": [
    {
     "name": "stdout",
     "output_type": "stream",
     "text": [
      "2    514\n",
      "4    490\n",
      "3    487\n",
      "6    481\n",
      "1    471\n",
      "7    463\n",
      "0    421\n",
      "5    421\n",
      "8     14\n",
      "Name: Aspect, dtype: int64\n"
     ]
    }
   ],
   "source": [
    "#cats, bins = pd.cut(df.Aspect, 6, retbins=True)\n",
    "#classes = [1, 2, 3, 4, 5, 6]\n",
    "category = pd.cut(df.Aspect,bins=[-2,0,22.5,67.5,112.5,157.5,202.5,247.5,292.5,337.5,360+1],labels=[8,0,1,2,3,4,5,6,7,0], ordered=False)\n",
    "df=df.drop(['Aspect'], axis=1)\n",
    "df.insert(2,'Aspect',category)\n",
    "print(df[\"Aspect\"].value_counts())"
   ]
  },
  {
   "cell_type": "code",
   "execution_count": 5,
   "id": "5fdece1b",
   "metadata": {},
   "outputs": [
    {
     "name": "stdout",
     "output_type": "stream",
     "text": [
      "3    3454\n",
      "4     262\n",
      "2      27\n",
      "5       8\n",
      "1       7\n",
      "6       4\n",
      "Name: Plan Curvature, dtype: int64\n",
      "[-41.6194173 -26.81155   -12.092       2.62755    17.3471     32.06665\n",
      "  46.7862   ]\n"
     ]
    }
   ],
   "source": [
    "cats, bins = pd.cut(df['Plan Curvature'], 6, retbins=True)\n",
    "classes = [1, 2, 3, 4, 5, 6]\n",
    "category = pd.cut(df['Plan Curvature'],bins=bins,labels=classes, ordered=False)\n",
    "df=df.drop(['Plan Curvature'], axis=1)\n",
    "df.insert(3,'Plan Curvature',category)\n",
    "print(df[\"Plan Curvature\"].value_counts())\n",
    "print(bins)"
   ]
  },
  {
   "cell_type": "code",
   "execution_count": 6,
   "id": "c803c411",
   "metadata": {},
   "outputs": [
    {
     "name": "stdout",
     "output_type": "stream",
     "text": [
      "3    3644\n",
      "2      90\n",
      "4      18\n",
      "1       8\n",
      "5       1\n",
      "6       1\n",
      "Name: Profile Curvature, dtype: int64\n",
      "[-61.35743    -34.45866667  -7.72033333  19.018       45.75633333\n",
      "  72.49466667  99.233     ]\n"
     ]
    }
   ],
   "source": [
    "cats, bins = pd.cut(df['Profile Curvature'], 6, retbins=True)\n",
    "classes = [1, 2, 3, 4, 5, 6]\n",
    "category = pd.cut(df['Profile Curvature'],bins=bins,labels=classes, ordered=False)\n",
    "df=df.drop(['Profile Curvature'], axis=1)\n",
    "df.insert(4,'Profile Curvature',category)\n",
    "print(df[\"Profile Curvature\"].value_counts())\n",
    "print(bins)"
   ]
  },
  {
   "cell_type": "code",
   "execution_count": 7,
   "id": "1eb28e9f",
   "metadata": {},
   "outputs": [
    {
     "name": "stdout",
     "output_type": "stream",
     "text": [
      "3    1806\n",
      "2    1329\n",
      "4     372\n",
      "1     160\n",
      "5      78\n",
      "6      17\n",
      "Name: Topographic Wetness Index, dtype: int64\n",
      "[-0.38968175  2.0137775   4.402902    6.7920265   9.181151   11.5702755\n",
      " 13.9594    ]\n"
     ]
    }
   ],
   "source": [
    "cats, bins = pd.cut(df['Topographic Wetness Index'], 6, retbins=True)\n",
    "classes = [1, 2, 3, 4, 5, 6]\n",
    "category = pd.cut(df['Topographic Wetness Index'],bins=bins,labels=classes, ordered=False)\n",
    "df=df.drop(['Topographic Wetness Index'], axis=1)\n",
    "df.insert(5,'Topographic Wetness Index',category)\n",
    "print(df[\"Topographic Wetness Index\"].value_counts())\n",
    "print(bins)"
   ]
  },
  {
   "cell_type": "code",
   "execution_count": 8,
   "id": "ba03195f",
   "metadata": {},
   "outputs": [
    {
     "name": "stdout",
     "output_type": "stream",
     "text": [
      "4    3435\n",
      "3     199\n",
      "5      89\n",
      "1      15\n",
      "2      12\n",
      "6      12\n",
      "Name: Terrain Roughness Index, dtype: int64\n",
      "[-0.00087743  0.1462375   0.292475    0.4387125   0.58495     0.7311875\n",
      "  0.877425  ]\n"
     ]
    }
   ],
   "source": [
    "cats, bins = pd.cut(df['Terrain Roughness Index'], 6, retbins=True)\n",
    "classes = [1, 2, 3, 4, 5, 6]\n",
    "category = pd.cut(df['Terrain Roughness Index'],bins=bins,labels=classes, ordered=False)\n",
    "df=df.drop(['Terrain Roughness Index'], axis=1)\n",
    "df.insert(6,'Terrain Roughness Index',category)\n",
    "print(df[\"Terrain Roughness Index\"].value_counts())\n",
    "print(bins)"
   ]
  },
  {
   "cell_type": "code",
   "execution_count": 9,
   "id": "3c78b8b7",
   "metadata": {},
   "outputs": [
    {
     "name": "stdout",
     "output_type": "stream",
     "text": [
      "4    3588\n",
      "3     148\n",
      "5      17\n",
      "2       4\n",
      "6       4\n",
      "1       1\n",
      "Name: Topographic Position Index, dtype: int64\n",
      "[-9.2607064  -6.44283333 -3.64176667 -0.8407      1.96036667  4.76143333\n",
      "  7.5625    ]\n"
     ]
    }
   ],
   "source": [
    "cats, bins = pd.cut(df['Topographic Position Index'], 6, retbins=True)\n",
    "classes = [1, 2, 3, 4, 5, 6]\n",
    "category = pd.cut(df['Topographic Position Index'],bins=bins,labels=classes, ordered=False)\n",
    "df=df.drop(['Topographic Position Index'], axis=1)\n",
    "df.insert(7,'Topographic Position Index',category)\n",
    "print(df[\"Topographic Position Index\"].value_counts())\n",
    "print(bins)"
   ]
  },
  {
   "cell_type": "code",
   "execution_count": 10,
   "id": "bd49de3a",
   "metadata": {},
   "outputs": [
    {
     "name": "stdout",
     "output_type": "stream",
     "text": [
      "1    2436\n",
      "2     792\n",
      "3     348\n",
      "4     132\n",
      "5      43\n",
      "6      11\n",
      "Name: Proximity to Road, dtype: int64\n",
      "[  -2.37023     395.03833333  790.07666667 1185.115      1580.15333333\n",
      " 1975.19166667 2370.23      ]\n"
     ]
    }
   ],
   "source": [
    "cats, bins = pd.cut(df['Proximity to Road'], 6, retbins=True)\n",
    "classes = [1, 2, 3, 4, 5, 6]\n",
    "category = pd.cut(df['Proximity to Road'],bins=bins,labels=classes, ordered=False)\n",
    "df=df.drop(['Proximity to Road'], axis=1)\n",
    "df.insert(8,'Proximity to Road',category)\n",
    "print(df[\"Proximity to Road\"].value_counts())\n",
    "print(bins)"
   ]
  },
  {
   "cell_type": "code",
   "execution_count": 11,
   "id": "183d1964",
   "metadata": {},
   "outputs": [
    {
     "name": "stdout",
     "output_type": "stream",
     "text": [
      "1    3265\n",
      "2     424\n",
      "3      49\n",
      "4       9\n",
      "5       8\n",
      "6       7\n",
      "Name: Proximity to Stream, dtype: int64\n",
      "[  -3.02853  504.755   1009.51    1514.265   2019.02    2523.775\n",
      " 3028.53   ]\n"
     ]
    }
   ],
   "source": [
    "cats, bins = pd.cut(df['Proximity to Stream'], 6, retbins=True)\n",
    "classes = [1, 2, 3, 4, 5, 6]\n",
    "category = pd.cut(df['Proximity to Stream'],bins=bins,labels=classes, ordered=False)\n",
    "df=df.drop(['Proximity to Stream'], axis=1)\n",
    "df.insert(9,'Proximity to Stream',category)\n",
    "print(df[\"Proximity to Stream\"].value_counts())\n",
    "print(bins)"
   ]
  },
  {
   "cell_type": "code",
   "execution_count": 12,
   "id": "78d161e8",
   "metadata": {},
   "outputs": [
    {
     "name": "stdout",
     "output_type": "stream",
     "text": [
      "2    1274\n",
      "3    1270\n",
      "1     683\n",
      "4     455\n",
      "5      65\n",
      "6      15\n",
      "Name: Average Wind Speed, dtype: int64\n",
      "[1.40314666 2.27222    3.13611    4.         4.86389    5.72778\n",
      " 6.59167   ]\n"
     ]
    }
   ],
   "source": [
    "cats, bins = pd.cut(df['Avarage Wind Speed'], 6, retbins=True)\n",
    "classes = [1, 2, 3, 4, 5, 6]\n",
    "category = pd.cut(df['Avarage Wind Speed'],bins=bins,labels=classes, ordered=False)\n",
    "df=df.drop(['Avarage Wind Speed'], axis=1)\n",
    "df.insert(10,'Average Wind Speed',category)\n",
    "print(df[\"Average Wind Speed\"].value_counts())\n",
    "print(bins)"
   ]
  },
  {
   "cell_type": "code",
   "execution_count": 13,
   "id": "6df5f3a0",
   "metadata": {},
   "outputs": [
    {
     "name": "stdout",
     "output_type": "stream",
     "text": [
      "3    1516\n",
      "2    1239\n",
      "4     455\n",
      "5     232\n",
      "6     228\n",
      "1      92\n",
      "Name: Average Min Temperature, dtype: int64\n",
      "[-10.46771667  -7.49722167  -4.54444333  -1.591665     1.36111333\n",
      "   4.31389167   7.26667   ]\n"
     ]
    }
   ],
   "source": [
    "cats, bins = pd.cut(df['Average Min Temperature'], 6, retbins=True)\n",
    "classes = [1, 2, 3, 4, 5, 6]\n",
    "category = pd.cut(df['Average Min Temperature'],bins=bins,labels=classes, ordered=False)\n",
    "df=df.drop(['Average Min Temperature'], axis=1)\n",
    "df.insert(11,'Average Min Temperature',category)\n",
    "print(df[\"Average Min Temperature\"].value_counts())\n",
    "print(bins)"
   ]
  },
  {
   "cell_type": "code",
   "execution_count": 14,
   "id": "e1d18fef",
   "metadata": {},
   "outputs": [
    {
     "name": "stdout",
     "output_type": "stream",
     "text": [
      "3    1295\n",
      "4     985\n",
      "2     648\n",
      "5     451\n",
      "6     330\n",
      "1      53\n",
      "Name: Average Max Temperature, dtype: int64\n",
      "[-6.6481417 -2.76805    1.0889     4.94585    8.8028    12.65975\n",
      " 16.5167   ]\n"
     ]
    }
   ],
   "source": [
    "cats, bins = pd.cut(df['Average Max Temperature'], 6, retbins=True)\n",
    "classes = [1, 2, 3, 4, 5, 6]\n",
    "category = pd.cut(df['Average Max Temperature'],bins=bins,labels=classes, ordered=False)\n",
    "df=df.drop(['Average Max Temperature'], axis=1)\n",
    "df.insert(12,'Average Max Temperature',category)\n",
    "print(df[\"Average Max Temperature\"].value_counts())\n",
    "print(bins)"
   ]
  },
  {
   "cell_type": "code",
   "execution_count": 15,
   "id": "6a610e02",
   "metadata": {},
   "outputs": [
    {
     "name": "stdout",
     "output_type": "stream",
     "text": [
      "4    1521\n",
      "3     974\n",
      "5     580\n",
      "2     358\n",
      "1     285\n",
      "6      44\n",
      "Name: Average Solar Radiation, dtype: int64\n",
      "[1236.807      1269.16666667 1301.33333333 1333.5        1365.66666667\n",
      " 1397.83333333 1430.        ]\n"
     ]
    }
   ],
   "source": [
    "cats, bins = pd.cut(df['Avarage Solar Radiation'], 6, retbins=True)\n",
    "classes = [1, 2, 3, 4, 5, 6]\n",
    "category = pd.cut(df['Avarage Solar Radiation'],bins=bins,labels=classes, ordered=False)\n",
    "df=df.drop(['Avarage Solar Radiation'], axis=1)\n",
    "df.insert(13,'Average Solar Radiation',category)\n",
    "print(df[\"Average Solar Radiation\"].value_counts())\n",
    "print(bins)"
   ]
  },
  {
   "cell_type": "code",
   "execution_count": 16,
   "id": "56ee0fed",
   "metadata": {},
   "outputs": [
    {
     "name": "stdout",
     "output_type": "stream",
     "text": [
      "2    1289\n",
      "3    1096\n",
      "1     568\n",
      "4     452\n",
      "5     251\n",
      "6     106\n",
      "Name: Annual Precipitation, dtype: int64\n",
      "[ 375.722  590.     803.    1016.    1229.    1442.    1655.   ]\n"
     ]
    }
   ],
   "source": [
    "cats, bins = pd.cut(df['Annual Precipitation'], 6, retbins=True)\n",
    "classes = [1, 2, 3, 4, 5, 6]\n",
    "category = pd.cut(df['Annual Precipitation'],bins=bins,labels=classes, ordered=False)\n",
    "df=df.drop(['Annual Precipitation'], axis=1)\n",
    "df.insert(14,'Annual Precipitation',category)\n",
    "print(df[\"Annual Precipitation\"].value_counts())\n",
    "print(bins)"
   ]
  },
  {
   "cell_type": "code",
   "execution_count": 17,
   "id": "3a469be4",
   "metadata": {
    "scrolled": true
   },
   "outputs": [
    {
     "name": "stdout",
     "output_type": "stream",
     "text": [
      "3    1499\n",
      "2     839\n",
      "4     783\n",
      "5     307\n",
      "6     277\n",
      "1      57\n",
      "Name: Annual Mean Temperature, dtype: int64\n",
      "[-8.557925   -5.13333333 -1.72916667  1.675       5.07916667  8.48333333\n",
      " 11.8875    ]\n"
     ]
    }
   ],
   "source": [
    "cats, bins = pd.cut(df['Annual Mean Temperature'], 6, retbins=True)\n",
    "classes = [1, 2, 3, 4, 5, 6]\n",
    "category = pd.cut(df['Annual Mean Temperature'],bins=bins,labels=classes, ordered=False)\n",
    "df=df.drop(['Annual Mean Temperature'], axis=1)\n",
    "df.insert(15,'Annual Mean Temperature',category)\n",
    "print(df[\"Annual Mean Temperature\"].value_counts())\n",
    "print(bins)"
   ]
  },
  {
   "cell_type": "code",
   "execution_count": 18,
   "id": "85bd7b2f",
   "metadata": {},
   "outputs": [
    {
     "data": {
      "text/html": [
       "<div>\n",
       "<style scoped>\n",
       "    .dataframe tbody tr th:only-of-type {\n",
       "        vertical-align: middle;\n",
       "    }\n",
       "\n",
       "    .dataframe tbody tr th {\n",
       "        vertical-align: top;\n",
       "    }\n",
       "\n",
       "    .dataframe thead th {\n",
       "        text-align: right;\n",
       "    }\n",
       "</style>\n",
       "<table border=\"1\" class=\"dataframe\">\n",
       "  <thead>\n",
       "    <tr style=\"text-align: right;\">\n",
       "      <th></th>\n",
       "      <th>Elevation</th>\n",
       "      <th>Slope</th>\n",
       "      <th>Aspect</th>\n",
       "      <th>Plan Curvature</th>\n",
       "      <th>Profile Curvature</th>\n",
       "      <th>Topographic Wetness Index</th>\n",
       "      <th>Terrain Roughness Index</th>\n",
       "      <th>Topographic Position Index</th>\n",
       "      <th>Proximity to Road</th>\n",
       "      <th>Proximity to Stream</th>\n",
       "      <th>Average Wind Speed</th>\n",
       "      <th>Average Min Temperature</th>\n",
       "      <th>Average Max Temperature</th>\n",
       "      <th>Average Solar Radiation</th>\n",
       "      <th>Annual Precipitation</th>\n",
       "      <th>Annual Mean Temperature</th>\n",
       "      <th>Lithology</th>\n",
       "      <th>Land Use</th>\n",
       "    </tr>\n",
       "  </thead>\n",
       "  <tbody>\n",
       "    <tr>\n",
       "      <th>0</th>\n",
       "      <td>1</td>\n",
       "      <td>1</td>\n",
       "      <td>3</td>\n",
       "      <td>3</td>\n",
       "      <td>3</td>\n",
       "      <td>3</td>\n",
       "      <td>6</td>\n",
       "      <td>4</td>\n",
       "      <td>1</td>\n",
       "      <td>1</td>\n",
       "      <td>1</td>\n",
       "      <td>6</td>\n",
       "      <td>6</td>\n",
       "      <td>1</td>\n",
       "      <td>3</td>\n",
       "      <td>6</td>\n",
       "      <td>4</td>\n",
       "      <td>1</td>\n",
       "    </tr>\n",
       "    <tr>\n",
       "      <th>1</th>\n",
       "      <td>5</td>\n",
       "      <td>1</td>\n",
       "      <td>1</td>\n",
       "      <td>3</td>\n",
       "      <td>3</td>\n",
       "      <td>4</td>\n",
       "      <td>4</td>\n",
       "      <td>4</td>\n",
       "      <td>1</td>\n",
       "      <td>2</td>\n",
       "      <td>4</td>\n",
       "      <td>2</td>\n",
       "      <td>2</td>\n",
       "      <td>5</td>\n",
       "      <td>3</td>\n",
       "      <td>2</td>\n",
       "      <td>2</td>\n",
       "      <td>4</td>\n",
       "    </tr>\n",
       "    <tr>\n",
       "      <th>2</th>\n",
       "      <td>4</td>\n",
       "      <td>1</td>\n",
       "      <td>1</td>\n",
       "      <td>3</td>\n",
       "      <td>3</td>\n",
       "      <td>2</td>\n",
       "      <td>4</td>\n",
       "      <td>4</td>\n",
       "      <td>1</td>\n",
       "      <td>1</td>\n",
       "      <td>3</td>\n",
       "      <td>2</td>\n",
       "      <td>3</td>\n",
       "      <td>4</td>\n",
       "      <td>2</td>\n",
       "      <td>3</td>\n",
       "      <td>3</td>\n",
       "      <td>4</td>\n",
       "    </tr>\n",
       "    <tr>\n",
       "      <th>3</th>\n",
       "      <td>3</td>\n",
       "      <td>1</td>\n",
       "      <td>0</td>\n",
       "      <td>3</td>\n",
       "      <td>3</td>\n",
       "      <td>4</td>\n",
       "      <td>4</td>\n",
       "      <td>4</td>\n",
       "      <td>1</td>\n",
       "      <td>2</td>\n",
       "      <td>1</td>\n",
       "      <td>4</td>\n",
       "      <td>5</td>\n",
       "      <td>3</td>\n",
       "      <td>1</td>\n",
       "      <td>4</td>\n",
       "      <td>3</td>\n",
       "      <td>2</td>\n",
       "    </tr>\n",
       "    <tr>\n",
       "      <th>4</th>\n",
       "      <td>5</td>\n",
       "      <td>2</td>\n",
       "      <td>7</td>\n",
       "      <td>4</td>\n",
       "      <td>3</td>\n",
       "      <td>1</td>\n",
       "      <td>3</td>\n",
       "      <td>4</td>\n",
       "      <td>2</td>\n",
       "      <td>1</td>\n",
       "      <td>3</td>\n",
       "      <td>2</td>\n",
       "      <td>3</td>\n",
       "      <td>4</td>\n",
       "      <td>3</td>\n",
       "      <td>3</td>\n",
       "      <td>3</td>\n",
       "      <td>4</td>\n",
       "    </tr>\n",
       "  </tbody>\n",
       "</table>\n",
       "</div>"
      ],
      "text/plain": [
       "  Elevation Slope Aspect Plan Curvature Profile Curvature  \\\n",
       "0         1     1      3              3                 3   \n",
       "1         5     1      1              3                 3   \n",
       "2         4     1      1              3                 3   \n",
       "3         3     1      0              3                 3   \n",
       "4         5     2      7              4                 3   \n",
       "\n",
       "  Topographic Wetness Index Terrain Roughness Index  \\\n",
       "0                         3                       6   \n",
       "1                         4                       4   \n",
       "2                         2                       4   \n",
       "3                         4                       4   \n",
       "4                         1                       3   \n",
       "\n",
       "  Topographic Position Index Proximity to Road Proximity to Stream  \\\n",
       "0                          4                 1                   1   \n",
       "1                          4                 1                   2   \n",
       "2                          4                 1                   1   \n",
       "3                          4                 1                   2   \n",
       "4                          4                 2                   1   \n",
       "\n",
       "  Average Wind Speed Average Min Temperature Average Max Temperature  \\\n",
       "0                  1                       6                       6   \n",
       "1                  4                       2                       2   \n",
       "2                  3                       2                       3   \n",
       "3                  1                       4                       5   \n",
       "4                  3                       2                       3   \n",
       "\n",
       "  Average Solar Radiation Annual Precipitation Annual Mean Temperature  \\\n",
       "0                       1                    3                       6   \n",
       "1                       5                    3                       2   \n",
       "2                       4                    2                       3   \n",
       "3                       3                    1                       4   \n",
       "4                       4                    3                       3   \n",
       "\n",
       "   Lithology  Land Use  \n",
       "0          4         1  \n",
       "1          2         4  \n",
       "2          3         4  \n",
       "3          3         2  \n",
       "4          3         4  "
      ]
     },
     "execution_count": 18,
     "metadata": {},
     "output_type": "execute_result"
    }
   ],
   "source": [
    "df.head()"
   ]
  },
  {
   "cell_type": "code",
   "execution_count": 19,
   "id": "d7114c0e",
   "metadata": {},
   "outputs": [
    {
     "name": "stdout",
     "output_type": "stream",
     "text": [
      "<class 'pandas.core.frame.DataFrame'>\n",
      "RangeIndex: 3762 entries, 0 to 3761\n",
      "Data columns (total 18 columns):\n",
      " #   Column                      Non-Null Count  Dtype   \n",
      "---  ------                      --------------  -----   \n",
      " 0   Elevation                   3762 non-null   category\n",
      " 1   Slope                       3762 non-null   category\n",
      " 2   Aspect                      3762 non-null   category\n",
      " 3   Plan Curvature              3762 non-null   category\n",
      " 4   Profile Curvature           3762 non-null   category\n",
      " 5   Topographic Wetness Index   3762 non-null   category\n",
      " 6   Terrain Roughness Index     3762 non-null   category\n",
      " 7   Topographic Position Index  3762 non-null   category\n",
      " 8   Proximity to Road           3762 non-null   category\n",
      " 9   Proximity to Stream         3762 non-null   category\n",
      " 10  Average Wind Speed          3762 non-null   category\n",
      " 11  Average Min Temperature     3762 non-null   category\n",
      " 12  Average Max Temperature     3762 non-null   category\n",
      " 13  Average Solar Radiation     3762 non-null   category\n",
      " 14  Annual Precipitation        3762 non-null   category\n",
      " 15  Annual Mean Temperature     3762 non-null   category\n",
      " 16  Lithology                   3762 non-null   int64   \n",
      " 17  Land Use                    3762 non-null   int64   \n",
      "dtypes: category(16), int64(2)\n",
      "memory usage: 121.3 KB\n"
     ]
    }
   ],
   "source": [
    "df.info()"
   ]
  },
  {
   "cell_type": "code",
   "execution_count": 20,
   "id": "74b383e3",
   "metadata": {},
   "outputs": [],
   "source": [
    "file_name = 'avalanche_discrete.xlsx'\n",
    "df.to_excel(file_name)"
   ]
  }
 ],
 "metadata": {
  "kernelspec": {
   "display_name": "Python 3",
   "language": "python",
   "name": "python3"
  },
  "language_info": {
   "codemirror_mode": {
    "name": "ipython",
    "version": 3
   },
   "file_extension": ".py",
   "mimetype": "text/x-python",
   "name": "python",
   "nbconvert_exporter": "python",
   "pygments_lexer": "ipython3",
   "version": "3.8.8"
  }
 },
 "nbformat": 4,
 "nbformat_minor": 5
}
