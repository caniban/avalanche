{
 "cells": [
  {
   "cell_type": "code",
   "execution_count": 1,
   "id": "0a9acfa0",
   "metadata": {},
   "outputs": [
    {
     "data": {
      "text/html": [
       "<div>\n",
       "<style scoped>\n",
       "    .dataframe tbody tr th:only-of-type {\n",
       "        vertical-align: middle;\n",
       "    }\n",
       "\n",
       "    .dataframe tbody tr th {\n",
       "        vertical-align: top;\n",
       "    }\n",
       "\n",
       "    .dataframe thead th {\n",
       "        text-align: right;\n",
       "    }\n",
       "</style>\n",
       "<table border=\"1\" class=\"dataframe\">\n",
       "  <thead>\n",
       "    <tr style=\"text-align: right;\">\n",
       "      <th></th>\n",
       "      <th>inventory</th>\n",
       "      <th>Elevation</th>\n",
       "      <th>Slope</th>\n",
       "      <th>Aspect</th>\n",
       "      <th>Plan Curvature</th>\n",
       "      <th>Profile Curvature</th>\n",
       "      <th>Topographic Wetness Index</th>\n",
       "      <th>Terrain Roughness Index</th>\n",
       "      <th>Topographic Position Index</th>\n",
       "      <th>Proximity to Road</th>\n",
       "      <th>Proximity to Stream</th>\n",
       "      <th>Avarage Wind Speed</th>\n",
       "      <th>Average Min Temperature</th>\n",
       "      <th>Average Max Temperature</th>\n",
       "      <th>Avarage Solar Radiation</th>\n",
       "      <th>Annual Precipitation</th>\n",
       "      <th>Annual Mean Temperature</th>\n",
       "      <th>Lithology</th>\n",
       "      <th>Land Use</th>\n",
       "    </tr>\n",
       "  </thead>\n",
       "  <tbody>\n",
       "    <tr>\n",
       "      <th>0</th>\n",
       "      <td>0</td>\n",
       "      <td>1621.200</td>\n",
       "      <td>55.622459</td>\n",
       "      <td>220.728</td>\n",
       "      <td>-1.004330</td>\n",
       "      <td>-0.051691</td>\n",
       "      <td>2.83937</td>\n",
       "      <td>0.502872</td>\n",
       "      <td>-0.135376</td>\n",
       "      <td>432.6660</td>\n",
       "      <td>170.880</td>\n",
       "      <td>2.01667</td>\n",
       "      <td>0.758333</td>\n",
       "      <td>10.7333</td>\n",
       "      <td>1309</td>\n",
       "      <td>601</td>\n",
       "      <td>5.74583</td>\n",
       "      <td>3</td>\n",
       "      <td>3</td>\n",
       "    </tr>\n",
       "    <tr>\n",
       "      <th>1</th>\n",
       "      <td>0</td>\n",
       "      <td>664.191</td>\n",
       "      <td>34.321125</td>\n",
       "      <td>279.399</td>\n",
       "      <td>0.306528</td>\n",
       "      <td>0.088266</td>\n",
       "      <td>3.93710</td>\n",
       "      <td>0.531168</td>\n",
       "      <td>0.030701</td>\n",
       "      <td>40.0000</td>\n",
       "      <td>180.000</td>\n",
       "      <td>1.75833</td>\n",
       "      <td>4.016670</td>\n",
       "      <td>13.9000</td>\n",
       "      <td>1277</td>\n",
       "      <td>958</td>\n",
       "      <td>8.95833</td>\n",
       "      <td>3</td>\n",
       "      <td>3</td>\n",
       "    </tr>\n",
       "    <tr>\n",
       "      <th>2</th>\n",
       "      <td>0</td>\n",
       "      <td>842.878</td>\n",
       "      <td>17.923445</td>\n",
       "      <td>305.905</td>\n",
       "      <td>0.836079</td>\n",
       "      <td>0.019673</td>\n",
       "      <td>4.68411</td>\n",
       "      <td>0.477840</td>\n",
       "      <td>0.077515</td>\n",
       "      <td>223.6070</td>\n",
       "      <td>20.000</td>\n",
       "      <td>1.69167</td>\n",
       "      <td>2.933330</td>\n",
       "      <td>12.8667</td>\n",
       "      <td>1267</td>\n",
       "      <td>667</td>\n",
       "      <td>7.90000</td>\n",
       "      <td>3</td>\n",
       "      <td>3</td>\n",
       "    </tr>\n",
       "    <tr>\n",
       "      <th>3</th>\n",
       "      <td>0</td>\n",
       "      <td>267.462</td>\n",
       "      <td>3.474140</td>\n",
       "      <td>206.670</td>\n",
       "      <td>3.935770</td>\n",
       "      <td>-0.744161</td>\n",
       "      <td>4.41112</td>\n",
       "      <td>0.318960</td>\n",
       "      <td>0.325012</td>\n",
       "      <td>107.7030</td>\n",
       "      <td>60.000</td>\n",
       "      <td>1.44167</td>\n",
       "      <td>6.558330</td>\n",
       "      <td>15.6333</td>\n",
       "      <td>1255</td>\n",
       "      <td>1023</td>\n",
       "      <td>11.09580</td>\n",
       "      <td>4</td>\n",
       "      <td>1</td>\n",
       "    </tr>\n",
       "    <tr>\n",
       "      <th>4</th>\n",
       "      <td>0</td>\n",
       "      <td>848.266</td>\n",
       "      <td>38.291718</td>\n",
       "      <td>341.725</td>\n",
       "      <td>1.485050</td>\n",
       "      <td>1.520450</td>\n",
       "      <td>5.75782</td>\n",
       "      <td>0.455069</td>\n",
       "      <td>-0.072022</td>\n",
       "      <td>56.5685</td>\n",
       "      <td>189.737</td>\n",
       "      <td>1.74167</td>\n",
       "      <td>3.283330</td>\n",
       "      <td>12.9583</td>\n",
       "      <td>1275</td>\n",
       "      <td>740</td>\n",
       "      <td>8.12083</td>\n",
       "      <td>3</td>\n",
       "      <td>3</td>\n",
       "    </tr>\n",
       "  </tbody>\n",
       "</table>\n",
       "</div>"
      ],
      "text/plain": [
       "   inventory  Elevation      Slope   Aspect  Plan Curvature  \\\n",
       "0          0   1621.200  55.622459  220.728       -1.004330   \n",
       "1          0    664.191  34.321125  279.399        0.306528   \n",
       "2          0    842.878  17.923445  305.905        0.836079   \n",
       "3          0    267.462   3.474140  206.670        3.935770   \n",
       "4          0    848.266  38.291718  341.725        1.485050   \n",
       "\n",
       "   Profile Curvature  Topographic Wetness Index  Terrain Roughness Index  \\\n",
       "0          -0.051691                    2.83937                 0.502872   \n",
       "1           0.088266                    3.93710                 0.531168   \n",
       "2           0.019673                    4.68411                 0.477840   \n",
       "3          -0.744161                    4.41112                 0.318960   \n",
       "4           1.520450                    5.75782                 0.455069   \n",
       "\n",
       "   Topographic Position Index  Proximity to Road  Proximity to Stream  \\\n",
       "0                   -0.135376           432.6660              170.880   \n",
       "1                    0.030701            40.0000              180.000   \n",
       "2                    0.077515           223.6070               20.000   \n",
       "3                    0.325012           107.7030               60.000   \n",
       "4                   -0.072022            56.5685              189.737   \n",
       "\n",
       "   Avarage Wind Speed  Average Min Temperature  Average Max Temperature  \\\n",
       "0             2.01667                 0.758333                  10.7333   \n",
       "1             1.75833                 4.016670                  13.9000   \n",
       "2             1.69167                 2.933330                  12.8667   \n",
       "3             1.44167                 6.558330                  15.6333   \n",
       "4             1.74167                 3.283330                  12.9583   \n",
       "\n",
       "   Avarage Solar Radiation  Annual Precipitation  Annual Mean Temperature  \\\n",
       "0                     1309                   601                  5.74583   \n",
       "1                     1277                   958                  8.95833   \n",
       "2                     1267                   667                  7.90000   \n",
       "3                     1255                  1023                 11.09580   \n",
       "4                     1275                   740                  8.12083   \n",
       "\n",
       "   Lithology  Land Use  \n",
       "0          3         3  \n",
       "1          3         3  \n",
       "2          3         3  \n",
       "3          4         1  \n",
       "4          3         3  "
      ]
     },
     "execution_count": 1,
     "metadata": {},
     "output_type": "execute_result"
    }
   ],
   "source": [
    "import numpy as np\n",
    "import pandas as pd\n",
    "df = pd.read_excel(\"avalanches3.xlsx\")\n",
    "df=df.drop(\"Inv ID\", 1)\n",
    "df.head()"
   ]
  },
  {
   "cell_type": "code",
   "execution_count": 2,
   "id": "a1fe6492",
   "metadata": {},
   "outputs": [
    {
     "name": "stdout",
     "output_type": "stream",
     "text": [
      "4    1201\n",
      "3     765\n",
      "1     689\n",
      "2     574\n",
      "5     513\n",
      "6      20\n",
      "Name: Elevation, dtype: int64\n",
      "[ 194.491263  798.3825   1398.672    1998.9615   2599.251    3199.5405\n",
      " 3799.83    ]\n"
     ]
    }
   ],
   "source": [
    "cats, bins = pd.cut(df.Elevation, 6, retbins=True, )\n",
    "classes = [1, 2, 3, 4, 5, 6]\n",
    "category = pd.cut(df.Elevation,bins=bins,labels=classes, ordered=False)\n",
    "df=df.drop(['Elevation'], axis=1)\n",
    "df.insert(1,'Elevation',category)\n",
    "print(df[\"Elevation\"].value_counts())\n",
    "print(bins)"
   ]
  },
  {
   "cell_type": "code",
   "execution_count": 3,
   "id": "06eb8018",
   "metadata": {},
   "outputs": [
    {
     "name": "stdout",
     "output_type": "stream",
     "text": [
      "3    1621\n",
      "2     863\n",
      "1     592\n",
      "4     566\n",
      "5     107\n",
      "6      13\n",
      "Name: Slope, dtype: int64\n",
      "[-0.0821886  13.69809977 27.39619954 41.09429932 54.79239909 68.49049886\n",
      " 82.18859863]\n"
     ]
    }
   ],
   "source": [
    "cats, bins = pd.cut(df.Slope, 6, retbins=True)\n",
    "classes = [1, 2, 3, 4, 5, 6]\n",
    "category = pd.cut(df.Slope,bins=bins,labels=classes, ordered=False)\n",
    "df=df.drop(['Slope'], axis=1)\n",
    "df.insert(2,'Slope',category)\n",
    "print(df[\"Slope\"].value_counts())\n",
    "print(bins)"
   ]
  },
  {
   "cell_type": "code",
   "execution_count": 4,
   "id": "1037031f",
   "metadata": {},
   "outputs": [
    {
     "name": "stdout",
     "output_type": "stream",
     "text": [
      "7    507\n",
      "6    488\n",
      "4    480\n",
      "2    469\n",
      "1    455\n",
      "5    449\n",
      "0    446\n",
      "3    440\n",
      "8     28\n",
      "Name: Aspect, dtype: int64\n"
     ]
    }
   ],
   "source": [
    "#cats, bins = pd.cut(df.Aspect, 6, retbins=True)\n",
    "#classes = [1, 2, 3, 4, 5, 6]\n",
    "category = pd.cut(df.Aspect,bins=[-2,0,22.5,67.5,112.5,157.5,202.5,247.5,292.5,337.5,360+1],labels=[8,0,1,2,3,4,5,6,7,0], ordered=False)\n",
    "df=df.drop(['Aspect'], axis=1)\n",
    "df.insert(3,'Aspect',category)\n",
    "print(df[\"Aspect\"].value_counts())"
   ]
  },
  {
   "cell_type": "code",
   "execution_count": 5,
   "id": "f1d1f5c8",
   "metadata": {},
   "outputs": [
    {
     "name": "stdout",
     "output_type": "stream",
     "text": [
      "4    3356\n",
      "3     347\n",
      "5      26\n",
      "2      21\n",
      "6       7\n",
      "1       5\n",
      "Name: Plan Curvature, dtype: int64\n",
      "[-35.6608226  -24.47366667 -13.35323333  -2.2328       8.88763333\n",
      "  20.00806667  31.1285    ]\n"
     ]
    }
   ],
   "source": [
    "cats, bins = pd.cut(df['Plan Curvature'], 6, retbins=True)\n",
    "classes = [1, 2, 3, 4, 5, 6]\n",
    "category = pd.cut(df['Plan Curvature'],bins=bins,labels=classes, ordered=False)\n",
    "df=df.drop(['Plan Curvature'], axis=1)\n",
    "df.insert(4,'Plan Curvature',category)\n",
    "print(df[\"Plan Curvature\"].value_counts())\n",
    "print(bins)"
   ]
  },
  {
   "cell_type": "code",
   "execution_count": 6,
   "id": "a9695b1b",
   "metadata": {},
   "outputs": [
    {
     "name": "stdout",
     "output_type": "stream",
     "text": [
      "2    2610\n",
      "3    1130\n",
      "4      12\n",
      "1       9\n",
      "6       1\n",
      "5       0\n",
      "Name: Profile Curvature, dtype: int64\n",
      "[-49.1909757  -24.33008333   0.38253333  25.09515     49.80776667\n",
      "  74.52038333  99.233     ]\n"
     ]
    }
   ],
   "source": [
    "cats, bins = pd.cut(df['Profile Curvature'], 6, retbins=True)\n",
    "classes = [1, 2, 3, 4, 5, 6]\n",
    "category = pd.cut(df['Profile Curvature'],bins=bins,labels=classes, ordered=False)\n",
    "df=df.drop(['Profile Curvature'], axis=1)\n",
    "df.insert(5,'Profile Curvature',category)\n",
    "print(df[\"Profile Curvature\"].value_counts())\n",
    "print(bins)"
   ]
  },
  {
   "cell_type": "code",
   "execution_count": 7,
   "id": "bfa31151",
   "metadata": {},
   "outputs": [
    {
     "name": "stdout",
     "output_type": "stream",
     "text": [
      "2    2088\n",
      "3    1181\n",
      "1     324\n",
      "4     154\n",
      "5      14\n",
      "6       1\n",
      "Name: Topographic Wetness Index, dtype: int64\n",
      "[-0.39300705  2.56799417  5.51133533  8.4546765  11.39801767 14.34135883\n",
      " 17.2847    ]\n"
     ]
    }
   ],
   "source": [
    "cats, bins = pd.cut(df['Topographic Wetness Index'], 6, retbins=True)\n",
    "classes = [1, 2, 3, 4, 5, 6]\n",
    "category = pd.cut(df['Topographic Wetness Index'],bins=bins,labels=classes, ordered=False)\n",
    "df=df.drop(['Topographic Wetness Index'], axis=1)\n",
    "df.insert(6,'Topographic Wetness Index',category)\n",
    "print(df[\"Topographic Wetness Index\"].value_counts())\n",
    "print(bins)"
   ]
  },
  {
   "cell_type": "code",
   "execution_count": 8,
   "id": "5d3e6b85",
   "metadata": {},
   "outputs": [
    {
     "name": "stdout",
     "output_type": "stream",
     "text": [
      "4    3286\n",
      "3     296\n",
      "5     121\n",
      "1      30\n",
      "2      15\n",
      "6      14\n",
      "Name: Terrain Roughness Index, dtype: int64\n",
      "[-0.00088791  0.14798433  0.29596867  0.443953    0.59193733  0.73992167\n",
      "  0.887906  ]\n"
     ]
    }
   ],
   "source": [
    "cats, bins = pd.cut(df['Terrain Roughness Index'], 6, retbins=True)\n",
    "classes = [1, 2, 3, 4, 5, 6]\n",
    "category = pd.cut(df['Terrain Roughness Index'],bins=bins,labels=classes, ordered=False)\n",
    "df=df.drop(['Terrain Roughness Index'], axis=1)\n",
    "df.insert(7,'Terrain Roughness Index',category)\n",
    "print(df[\"Terrain Roughness Index\"].value_counts())\n",
    "print(bins)"
   ]
  },
  {
   "cell_type": "code",
   "execution_count": 9,
   "id": "4bd318f1",
   "metadata": {},
   "outputs": [
    {
     "name": "stdout",
     "output_type": "stream",
     "text": [
      "4    3349\n",
      "5     378\n",
      "3      26\n",
      "6       8\n",
      "1       1\n",
      "2       0\n",
      "Name: Topographic Position Index, dtype: int64\n",
      "[-9.25821202 -6.85856333 -4.47322667 -2.08789     0.29744667  2.68278333\n",
      "  5.06812   ]\n"
     ]
    }
   ],
   "source": [
    "cats, bins = pd.cut(df['Topographic Position Index'], 6, retbins=True)\n",
    "classes = [1, 2, 3, 4, 5, 6]\n",
    "category = pd.cut(df['Topographic Position Index'],bins=bins,labels=classes, ordered=False)\n",
    "df=df.drop(['Topographic Position Index'], axis=1)\n",
    "df.insert(8,'Topographic Position Index',category)\n",
    "print(df[\"Topographic Position Index\"].value_counts())\n",
    "print(bins)"
   ]
  },
  {
   "cell_type": "code",
   "execution_count": 10,
   "id": "5fcfb6ec",
   "metadata": {},
   "outputs": [
    {
     "name": "stdout",
     "output_type": "stream",
     "text": [
      "1    2733\n",
      "2     619\n",
      "3     268\n",
      "4     102\n",
      "5      32\n",
      "6       8\n",
      "Name: Proximity to Road, dtype: int64\n",
      "[  -2.37023     395.03833333  790.07666667 1185.115      1580.15333333\n",
      " 1975.19166667 2370.23      ]\n"
     ]
    }
   ],
   "source": [
    "cats, bins = pd.cut(df['Proximity to Road'], 6, retbins=True)\n",
    "classes = [1, 2, 3, 4, 5, 6]\n",
    "category = pd.cut(df['Proximity to Road'],bins=bins,labels=classes, ordered=False)\n",
    "df=df.drop(['Proximity to Road'], axis=1)\n",
    "df.insert(9,'Proximity to Road',category)\n",
    "print(df[\"Proximity to Road\"].value_counts())\n",
    "print(bins)"
   ]
  },
  {
   "cell_type": "code",
   "execution_count": 11,
   "id": "86c61596",
   "metadata": {},
   "outputs": [
    {
     "name": "stdout",
     "output_type": "stream",
     "text": [
      "1    3264\n",
      "2     445\n",
      "3      41\n",
      "4       5\n",
      "6       5\n",
      "5       2\n",
      "Name: Proximity to Stream, dtype: int64\n",
      "[  -3.00093  500.155   1000.31    1500.465   2000.62    2500.775\n",
      " 3000.93   ]\n"
     ]
    }
   ],
   "source": [
    "cats, bins = pd.cut(df['Proximity to Stream'], 6, retbins=True)\n",
    "classes = [1, 2, 3, 4, 5, 6]\n",
    "category = pd.cut(df['Proximity to Stream'],bins=bins,labels=classes, ordered=False)\n",
    "df=df.drop(['Proximity to Stream'], axis=1)\n",
    "df.insert(10,'Proximity to Stream',category)\n",
    "print(df[\"Proximity to Stream\"].value_counts())\n",
    "print(bins)"
   ]
  },
  {
   "cell_type": "code",
   "execution_count": 12,
   "id": "763198fb",
   "metadata": {},
   "outputs": [
    {
     "name": "stdout",
     "output_type": "stream",
     "text": [
      "1    1436\n",
      "2    1068\n",
      "3     898\n",
      "4     314\n",
      "5      37\n",
      "6       9\n",
      "Name: Average Wind Speed, dtype: int64\n",
      "[1.40314666 2.27222    3.13611    4.         4.86389    5.72778\n",
      " 6.59167   ]\n"
     ]
    }
   ],
   "source": [
    "cats, bins = pd.cut(df['Avarage Wind Speed'], 6, retbins=True)\n",
    "classes = [1, 2, 3, 4, 5, 6]\n",
    "category = pd.cut(df['Avarage Wind Speed'],bins=bins,labels=classes, ordered=False)\n",
    "df=df.drop(['Avarage Wind Speed'], axis=1)\n",
    "df.insert(11,'Average Wind Speed',category)\n",
    "print(df[\"Average Wind Speed\"].value_counts())\n",
    "print(bins)"
   ]
  },
  {
   "cell_type": "code",
   "execution_count": 13,
   "id": "ad29e1bd",
   "metadata": {},
   "outputs": [
    {
     "name": "stdout",
     "output_type": "stream",
     "text": [
      "3    1171\n",
      "2     888\n",
      "6     629\n",
      "4     595\n",
      "5     426\n",
      "1      53\n",
      "Name: Average Min Temperature, dtype: int64\n",
      "[-10.46778333  -7.48611167  -4.52222333  -1.558335     1.40555333\n",
      "   4.36944167   7.33333   ]\n"
     ]
    }
   ],
   "source": [
    "cats, bins = pd.cut(df['Average Min Temperature'], 6, retbins=True)\n",
    "classes = [1, 2, 3, 4, 5, 6]\n",
    "category = pd.cut(df['Average Min Temperature'],bins=bins,labels=classes, ordered=False)\n",
    "df=df.drop(['Average Min Temperature'], axis=1)\n",
    "df.insert(12,'Average Min Temperature',category)\n",
    "print(df[\"Average Min Temperature\"].value_counts())\n",
    "print(bins)"
   ]
  },
  {
   "cell_type": "code",
   "execution_count": 14,
   "id": "34e193e5",
   "metadata": {},
   "outputs": [
    {
     "name": "stdout",
     "output_type": "stream",
     "text": [
      "3    932\n",
      "6    853\n",
      "4    822\n",
      "5    674\n",
      "2    454\n",
      "1     27\n",
      "Name: Average Max Temperature, dtype: int64\n",
      "[-6.6481333 -2.76945    1.0861     4.94165    8.7972    12.65275\n",
      " 16.5083   ]\n"
     ]
    }
   ],
   "source": [
    "cats, bins = pd.cut(df['Average Max Temperature'], 6, retbins=True)\n",
    "classes = [1, 2, 3, 4, 5, 6]\n",
    "category = pd.cut(df['Average Max Temperature'],bins=bins,labels=classes, ordered=False)\n",
    "df=df.drop(['Average Max Temperature'], axis=1)\n",
    "df.insert(13,'Average Max Temperature',category)\n",
    "print(df[\"Average Max Temperature\"].value_counts())\n",
    "print(bins)"
   ]
  },
  {
   "cell_type": "code",
   "execution_count": 15,
   "id": "f68f6582",
   "metadata": {},
   "outputs": [
    {
     "name": "stdout",
     "output_type": "stream",
     "text": [
      "4    1104\n",
      "3     897\n",
      "1     749\n",
      "2     571\n",
      "5     417\n",
      "6      24\n",
      "Name: Average Solar Radiation, dtype: int64\n",
      "[1236.807      1269.16666667 1301.33333333 1333.5        1365.66666667\n",
      " 1397.83333333 1430.        ]\n"
     ]
    }
   ],
   "source": [
    "cats, bins = pd.cut(df['Avarage Solar Radiation'], 6, retbins=True)\n",
    "classes = [1, 2, 3, 4, 5, 6]\n",
    "category = pd.cut(df['Avarage Solar Radiation'],bins=bins,labels=classes, ordered=False)\n",
    "df=df.drop(['Avarage Solar Radiation'], axis=1)\n",
    "df.insert(14,'Average Solar Radiation',category)\n",
    "print(df[\"Average Solar Radiation\"].value_counts())\n",
    "print(bins)"
   ]
  },
  {
   "cell_type": "code",
   "execution_count": 16,
   "id": "9e531e18",
   "metadata": {},
   "outputs": [
    {
     "name": "stdout",
     "output_type": "stream",
     "text": [
      "2    1136\n",
      "3    1057\n",
      "4     676\n",
      "1     595\n",
      "5     216\n",
      "6      82\n",
      "Name: Annual Precipitation, dtype: int64\n",
      "[ 376.717       591.83333333  805.66666667 1019.5        1233.33333333\n",
      " 1447.16666667 1661.        ]\n"
     ]
    }
   ],
   "source": [
    "cats, bins = pd.cut(df['Annual Precipitation'], 6, retbins=True)\n",
    "classes = [1, 2, 3, 4, 5, 6]\n",
    "category = pd.cut(df['Annual Precipitation'],bins=bins,labels=classes, ordered=False)\n",
    "df=df.drop(['Annual Precipitation'], axis=1)\n",
    "df.insert(15,'Annual Precipitation',category)\n",
    "print(df[\"Annual Precipitation\"].value_counts())\n",
    "print(bins)"
   ]
  },
  {
   "cell_type": "code",
   "execution_count": 17,
   "id": "b1f05ea5",
   "metadata": {
    "scrolled": true
   },
   "outputs": [
    {
     "name": "stdout",
     "output_type": "stream",
     "text": [
      "3    1125\n",
      "6     731\n",
      "4     727\n",
      "2     601\n",
      "5     551\n",
      "1      27\n",
      "Name: Annual Mean Temperature, dtype: int64\n",
      "[-8.5579375 -5.13125   -1.725      1.68125    5.0875     8.49375\n",
      " 11.9      ]\n"
     ]
    }
   ],
   "source": [
    "cats, bins = pd.cut(df['Annual Mean Temperature'], 6, retbins=True)\n",
    "classes = [1, 2, 3, 4, 5, 6]\n",
    "category = pd.cut(df['Annual Mean Temperature'],bins=bins,labels=classes, ordered=False)\n",
    "df=df.drop(['Annual Mean Temperature'], axis=1)\n",
    "df.insert(16,'Annual Mean Temperature',category)\n",
    "print(df[\"Annual Mean Temperature\"].value_counts())\n",
    "print(bins)"
   ]
  },
  {
   "cell_type": "code",
   "execution_count": 18,
   "id": "8a1b2cf3",
   "metadata": {
    "scrolled": true
   },
   "outputs": [
    {
     "data": {
      "text/html": [
       "<div>\n",
       "<style scoped>\n",
       "    .dataframe tbody tr th:only-of-type {\n",
       "        vertical-align: middle;\n",
       "    }\n",
       "\n",
       "    .dataframe tbody tr th {\n",
       "        vertical-align: top;\n",
       "    }\n",
       "\n",
       "    .dataframe thead th {\n",
       "        text-align: right;\n",
       "    }\n",
       "</style>\n",
       "<table border=\"1\" class=\"dataframe\">\n",
       "  <thead>\n",
       "    <tr style=\"text-align: right;\">\n",
       "      <th></th>\n",
       "      <th>inventory</th>\n",
       "      <th>Elevation</th>\n",
       "      <th>Slope</th>\n",
       "      <th>Aspect</th>\n",
       "      <th>Plan Curvature</th>\n",
       "      <th>Profile Curvature</th>\n",
       "      <th>Topographic Wetness Index</th>\n",
       "      <th>Terrain Roughness Index</th>\n",
       "      <th>Topographic Position Index</th>\n",
       "      <th>Proximity to Road</th>\n",
       "      <th>Proximity to Stream</th>\n",
       "      <th>Average Wind Speed</th>\n",
       "      <th>Average Min Temperature</th>\n",
       "      <th>Average Max Temperature</th>\n",
       "      <th>Average Solar Radiation</th>\n",
       "      <th>Annual Precipitation</th>\n",
       "      <th>Annual Mean Temperature</th>\n",
       "      <th>Lithology</th>\n",
       "      <th>Land Use</th>\n",
       "    </tr>\n",
       "  </thead>\n",
       "  <tbody>\n",
       "    <tr>\n",
       "      <th>0</th>\n",
       "      <td>0</td>\n",
       "      <td>3</td>\n",
       "      <td>5</td>\n",
       "      <td>5</td>\n",
       "      <td>4</td>\n",
       "      <td>2</td>\n",
       "      <td>2</td>\n",
       "      <td>4</td>\n",
       "      <td>4</td>\n",
       "      <td>2</td>\n",
       "      <td>1</td>\n",
       "      <td>1</td>\n",
       "      <td>4</td>\n",
       "      <td>5</td>\n",
       "      <td>3</td>\n",
       "      <td>2</td>\n",
       "      <td>5</td>\n",
       "      <td>3</td>\n",
       "      <td>3</td>\n",
       "    </tr>\n",
       "    <tr>\n",
       "      <th>1</th>\n",
       "      <td>0</td>\n",
       "      <td>1</td>\n",
       "      <td>3</td>\n",
       "      <td>6</td>\n",
       "      <td>4</td>\n",
       "      <td>2</td>\n",
       "      <td>2</td>\n",
       "      <td>4</td>\n",
       "      <td>4</td>\n",
       "      <td>1</td>\n",
       "      <td>1</td>\n",
       "      <td>1</td>\n",
       "      <td>5</td>\n",
       "      <td>6</td>\n",
       "      <td>2</td>\n",
       "      <td>3</td>\n",
       "      <td>6</td>\n",
       "      <td>3</td>\n",
       "      <td>3</td>\n",
       "    </tr>\n",
       "    <tr>\n",
       "      <th>2</th>\n",
       "      <td>0</td>\n",
       "      <td>2</td>\n",
       "      <td>2</td>\n",
       "      <td>7</td>\n",
       "      <td>4</td>\n",
       "      <td>2</td>\n",
       "      <td>2</td>\n",
       "      <td>4</td>\n",
       "      <td>4</td>\n",
       "      <td>1</td>\n",
       "      <td>1</td>\n",
       "      <td>1</td>\n",
       "      <td>5</td>\n",
       "      <td>6</td>\n",
       "      <td>1</td>\n",
       "      <td>2</td>\n",
       "      <td>5</td>\n",
       "      <td>3</td>\n",
       "      <td>3</td>\n",
       "    </tr>\n",
       "    <tr>\n",
       "      <th>3</th>\n",
       "      <td>0</td>\n",
       "      <td>1</td>\n",
       "      <td>1</td>\n",
       "      <td>5</td>\n",
       "      <td>4</td>\n",
       "      <td>2</td>\n",
       "      <td>2</td>\n",
       "      <td>3</td>\n",
       "      <td>5</td>\n",
       "      <td>1</td>\n",
       "      <td>1</td>\n",
       "      <td>1</td>\n",
       "      <td>6</td>\n",
       "      <td>6</td>\n",
       "      <td>1</td>\n",
       "      <td>4</td>\n",
       "      <td>6</td>\n",
       "      <td>4</td>\n",
       "      <td>1</td>\n",
       "    </tr>\n",
       "    <tr>\n",
       "      <th>4</th>\n",
       "      <td>0</td>\n",
       "      <td>2</td>\n",
       "      <td>3</td>\n",
       "      <td>0</td>\n",
       "      <td>4</td>\n",
       "      <td>3</td>\n",
       "      <td>3</td>\n",
       "      <td>4</td>\n",
       "      <td>4</td>\n",
       "      <td>1</td>\n",
       "      <td>1</td>\n",
       "      <td>1</td>\n",
       "      <td>5</td>\n",
       "      <td>6</td>\n",
       "      <td>2</td>\n",
       "      <td>2</td>\n",
       "      <td>5</td>\n",
       "      <td>3</td>\n",
       "      <td>3</td>\n",
       "    </tr>\n",
       "  </tbody>\n",
       "</table>\n",
       "</div>"
      ],
      "text/plain": [
       "   inventory Elevation Slope Aspect Plan Curvature Profile Curvature  \\\n",
       "0          0         3     5      5              4                 2   \n",
       "1          0         1     3      6              4                 2   \n",
       "2          0         2     2      7              4                 2   \n",
       "3          0         1     1      5              4                 2   \n",
       "4          0         2     3      0              4                 3   \n",
       "\n",
       "  Topographic Wetness Index Terrain Roughness Index  \\\n",
       "0                         2                       4   \n",
       "1                         2                       4   \n",
       "2                         2                       4   \n",
       "3                         2                       3   \n",
       "4                         3                       4   \n",
       "\n",
       "  Topographic Position Index Proximity to Road Proximity to Stream  \\\n",
       "0                          4                 2                   1   \n",
       "1                          4                 1                   1   \n",
       "2                          4                 1                   1   \n",
       "3                          5                 1                   1   \n",
       "4                          4                 1                   1   \n",
       "\n",
       "  Average Wind Speed Average Min Temperature Average Max Temperature  \\\n",
       "0                  1                       4                       5   \n",
       "1                  1                       5                       6   \n",
       "2                  1                       5                       6   \n",
       "3                  1                       6                       6   \n",
       "4                  1                       5                       6   \n",
       "\n",
       "  Average Solar Radiation Annual Precipitation Annual Mean Temperature  \\\n",
       "0                       3                    2                       5   \n",
       "1                       2                    3                       6   \n",
       "2                       1                    2                       5   \n",
       "3                       1                    4                       6   \n",
       "4                       2                    2                       5   \n",
       "\n",
       "   Lithology  Land Use  \n",
       "0          3         3  \n",
       "1          3         3  \n",
       "2          3         3  \n",
       "3          4         1  \n",
       "4          3         3  "
      ]
     },
     "execution_count": 18,
     "metadata": {},
     "output_type": "execute_result"
    }
   ],
   "source": [
    "df.head()"
   ]
  },
  {
   "cell_type": "code",
   "execution_count": 19,
   "id": "9379009a",
   "metadata": {},
   "outputs": [
    {
     "name": "stdout",
     "output_type": "stream",
     "text": [
      "<class 'pandas.core.frame.DataFrame'>\n",
      "RangeIndex: 3762 entries, 0 to 3761\n",
      "Data columns (total 19 columns):\n",
      " #   Column                      Non-Null Count  Dtype   \n",
      "---  ------                      --------------  -----   \n",
      " 0   inventory                   3762 non-null   int64   \n",
      " 1   Elevation                   3762 non-null   category\n",
      " 2   Slope                       3762 non-null   category\n",
      " 3   Aspect                      3762 non-null   category\n",
      " 4   Plan Curvature              3762 non-null   category\n",
      " 5   Profile Curvature           3762 non-null   category\n",
      " 6   Topographic Wetness Index   3762 non-null   category\n",
      " 7   Terrain Roughness Index     3762 non-null   category\n",
      " 8   Topographic Position Index  3762 non-null   category\n",
      " 9   Proximity to Road           3762 non-null   category\n",
      " 10  Proximity to Stream         3762 non-null   category\n",
      " 11  Average Wind Speed          3762 non-null   category\n",
      " 12  Average Min Temperature     3762 non-null   category\n",
      " 13  Average Max Temperature     3762 non-null   category\n",
      " 14  Average Solar Radiation     3762 non-null   category\n",
      " 15  Annual Precipitation        3762 non-null   category\n",
      " 16  Annual Mean Temperature     3762 non-null   category\n",
      " 17  Lithology                   3762 non-null   int64   \n",
      " 18  Land Use                    3762 non-null   int64   \n",
      "dtypes: category(16), int64(3)\n",
      "memory usage: 150.7 KB\n"
     ]
    }
   ],
   "source": [
    "df.info()"
   ]
  },
  {
   "cell_type": "code",
   "execution_count": 20,
   "id": "d55c23cb",
   "metadata": {},
   "outputs": [],
   "source": [
    "file_name = 'avalanche_discrete3.xlsx'\n",
    "df.to_excel(file_name, index=False)"
   ]
  }
 ],
 "metadata": {
  "kernelspec": {
   "display_name": "Python 3",
   "language": "python",
   "name": "python3"
  },
  "language_info": {
   "codemirror_mode": {
    "name": "ipython",
    "version": 3
   },
   "file_extension": ".py",
   "mimetype": "text/x-python",
   "name": "python",
   "nbconvert_exporter": "python",
   "pygments_lexer": "ipython3",
   "version": "3.8.8"
  }
 },
 "nbformat": 4,
 "nbformat_minor": 5
}
