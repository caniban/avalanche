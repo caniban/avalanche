{
 "cells": [
  {
   "cell_type": "code",
   "execution_count": 3,
   "id": "08d475ef",
   "metadata": {},
   "outputs": [
    {
     "data": {
      "text/html": [
       "<div>\n",
       "<style scoped>\n",
       "    .dataframe tbody tr th:only-of-type {\n",
       "        vertical-align: middle;\n",
       "    }\n",
       "\n",
       "    .dataframe tbody tr th {\n",
       "        vertical-align: top;\n",
       "    }\n",
       "\n",
       "    .dataframe thead th {\n",
       "        text-align: right;\n",
       "    }\n",
       "</style>\n",
       "<table border=\"1\" class=\"dataframe\">\n",
       "  <thead>\n",
       "    <tr style=\"text-align: right;\">\n",
       "      <th></th>\n",
       "      <th>inventory</th>\n",
       "      <th>Elevation</th>\n",
       "      <th>Slope</th>\n",
       "      <th>Aspect</th>\n",
       "      <th>Plan Curvature</th>\n",
       "      <th>Profile Curvature</th>\n",
       "      <th>Topographic Wetness Index</th>\n",
       "      <th>Terrain Roughness Index</th>\n",
       "      <th>Topographic Position Index</th>\n",
       "      <th>Proximity to Road</th>\n",
       "      <th>Proximity to Stream</th>\n",
       "      <th>Average Wind Speed</th>\n",
       "      <th>Average Min Temperature</th>\n",
       "      <th>Average Max Temperature</th>\n",
       "      <th>Average Solar Radiation</th>\n",
       "      <th>Annual Precipitation</th>\n",
       "      <th>Annual Mean Temperature</th>\n",
       "      <th>Lithology</th>\n",
       "      <th>Land Use</th>\n",
       "    </tr>\n",
       "  </thead>\n",
       "  <tbody>\n",
       "    <tr>\n",
       "      <th>0</th>\n",
       "      <td>0</td>\n",
       "      <td>3</td>\n",
       "      <td>5</td>\n",
       "      <td>5</td>\n",
       "      <td>4</td>\n",
       "      <td>2</td>\n",
       "      <td>2</td>\n",
       "      <td>4</td>\n",
       "      <td>4</td>\n",
       "      <td>2</td>\n",
       "      <td>1</td>\n",
       "      <td>1</td>\n",
       "      <td>4</td>\n",
       "      <td>5</td>\n",
       "      <td>3</td>\n",
       "      <td>2</td>\n",
       "      <td>5</td>\n",
       "      <td>3</td>\n",
       "      <td>3</td>\n",
       "    </tr>\n",
       "    <tr>\n",
       "      <th>1</th>\n",
       "      <td>0</td>\n",
       "      <td>1</td>\n",
       "      <td>3</td>\n",
       "      <td>6</td>\n",
       "      <td>4</td>\n",
       "      <td>2</td>\n",
       "      <td>2</td>\n",
       "      <td>4</td>\n",
       "      <td>4</td>\n",
       "      <td>1</td>\n",
       "      <td>1</td>\n",
       "      <td>1</td>\n",
       "      <td>5</td>\n",
       "      <td>6</td>\n",
       "      <td>2</td>\n",
       "      <td>3</td>\n",
       "      <td>6</td>\n",
       "      <td>3</td>\n",
       "      <td>3</td>\n",
       "    </tr>\n",
       "    <tr>\n",
       "      <th>2</th>\n",
       "      <td>0</td>\n",
       "      <td>2</td>\n",
       "      <td>2</td>\n",
       "      <td>7</td>\n",
       "      <td>4</td>\n",
       "      <td>2</td>\n",
       "      <td>2</td>\n",
       "      <td>4</td>\n",
       "      <td>4</td>\n",
       "      <td>1</td>\n",
       "      <td>1</td>\n",
       "      <td>1</td>\n",
       "      <td>5</td>\n",
       "      <td>6</td>\n",
       "      <td>1</td>\n",
       "      <td>2</td>\n",
       "      <td>5</td>\n",
       "      <td>3</td>\n",
       "      <td>3</td>\n",
       "    </tr>\n",
       "    <tr>\n",
       "      <th>3</th>\n",
       "      <td>0</td>\n",
       "      <td>1</td>\n",
       "      <td>1</td>\n",
       "      <td>5</td>\n",
       "      <td>4</td>\n",
       "      <td>2</td>\n",
       "      <td>2</td>\n",
       "      <td>3</td>\n",
       "      <td>5</td>\n",
       "      <td>1</td>\n",
       "      <td>1</td>\n",
       "      <td>1</td>\n",
       "      <td>6</td>\n",
       "      <td>6</td>\n",
       "      <td>1</td>\n",
       "      <td>4</td>\n",
       "      <td>6</td>\n",
       "      <td>4</td>\n",
       "      <td>1</td>\n",
       "    </tr>\n",
       "    <tr>\n",
       "      <th>4</th>\n",
       "      <td>0</td>\n",
       "      <td>2</td>\n",
       "      <td>3</td>\n",
       "      <td>0</td>\n",
       "      <td>4</td>\n",
       "      <td>3</td>\n",
       "      <td>3</td>\n",
       "      <td>4</td>\n",
       "      <td>4</td>\n",
       "      <td>1</td>\n",
       "      <td>1</td>\n",
       "      <td>1</td>\n",
       "      <td>5</td>\n",
       "      <td>6</td>\n",
       "      <td>2</td>\n",
       "      <td>2</td>\n",
       "      <td>5</td>\n",
       "      <td>3</td>\n",
       "      <td>3</td>\n",
       "    </tr>\n",
       "  </tbody>\n",
       "</table>\n",
       "</div>"
      ],
      "text/plain": [
       "   inventory  Elevation  Slope  Aspect  Plan Curvature  Profile Curvature  \\\n",
       "0          0          3      5       5               4                  2   \n",
       "1          0          1      3       6               4                  2   \n",
       "2          0          2      2       7               4                  2   \n",
       "3          0          1      1       5               4                  2   \n",
       "4          0          2      3       0               4                  3   \n",
       "\n",
       "   Topographic Wetness Index  Terrain Roughness Index  \\\n",
       "0                          2                        4   \n",
       "1                          2                        4   \n",
       "2                          2                        4   \n",
       "3                          2                        3   \n",
       "4                          3                        4   \n",
       "\n",
       "   Topographic Position Index  Proximity to Road  Proximity to Stream  \\\n",
       "0                           4                  2                    1   \n",
       "1                           4                  1                    1   \n",
       "2                           4                  1                    1   \n",
       "3                           5                  1                    1   \n",
       "4                           4                  1                    1   \n",
       "\n",
       "   Average Wind Speed  Average Min Temperature  Average Max Temperature  \\\n",
       "0                   1                        4                        5   \n",
       "1                   1                        5                        6   \n",
       "2                   1                        5                        6   \n",
       "3                   1                        6                        6   \n",
       "4                   1                        5                        6   \n",
       "\n",
       "   Average Solar Radiation  Annual Precipitation  Annual Mean Temperature  \\\n",
       "0                        3                     2                        5   \n",
       "1                        2                     3                        6   \n",
       "2                        1                     2                        5   \n",
       "3                        1                     4                        6   \n",
       "4                        2                     2                        5   \n",
       "\n",
       "   Lithology  Land Use  \n",
       "0          3         3  \n",
       "1          3         3  \n",
       "2          3         3  \n",
       "3          4         1  \n",
       "4          3         3  "
      ]
     },
     "execution_count": 3,
     "metadata": {},
     "output_type": "execute_result"
    }
   ],
   "source": [
    "import numpy as np\n",
    "import pandas as pd\n",
    "df = pd.read_excel(\"avalanche_discrete3.xlsx\")\n",
    "df.head()"
   ]
  },
  {
   "cell_type": "markdown",
   "id": "778161f9",
   "metadata": {},
   "source": [
    "### Independent Variables"
   ]
  },
  {
   "cell_type": "code",
   "execution_count": 4,
   "id": "976ee26a",
   "metadata": {},
   "outputs": [
    {
     "data": {
      "text/plain": [
       "(3762, 18)"
      ]
     },
     "execution_count": 4,
     "metadata": {},
     "output_type": "execute_result"
    }
   ],
   "source": [
    "X = df.iloc[:,1:].values\n",
    "X.shape"
   ]
  },
  {
   "cell_type": "markdown",
   "id": "cc8755dd",
   "metadata": {},
   "source": [
    "### Dependent Variable"
   ]
  },
  {
   "cell_type": "code",
   "execution_count": 5,
   "id": "800df773",
   "metadata": {},
   "outputs": [
    {
     "data": {
      "text/plain": [
       "(3762,)"
      ]
     },
     "execution_count": 5,
     "metadata": {},
     "output_type": "execute_result"
    }
   ],
   "source": [
    "y = df.iloc[:,0].values\n",
    "y.shape"
   ]
  },
  {
   "cell_type": "markdown",
   "id": "278b9af5",
   "metadata": {},
   "source": [
    "### Column Names"
   ]
  },
  {
   "cell_type": "code",
   "execution_count": 6,
   "id": "3e85d602",
   "metadata": {},
   "outputs": [
    {
     "data": {
      "text/plain": [
       "Index(['Elevation', 'Slope', 'Aspect', 'Plan Curvature', 'Profile Curvature',\n",
       "       'Topographic Wetness Index', 'Terrain Roughness Index',\n",
       "       'Topographic Position Index', 'Proximity to Road',\n",
       "       'Proximity to Stream', 'Average Wind Speed', 'Average Min Temperature',\n",
       "       'Average Max Temperature', 'Average Solar Radiation',\n",
       "       'Annual Precipitation', 'Annual Mean Temperature', 'Lithology',\n",
       "       'Land Use'],\n",
       "      dtype='object')"
      ]
     },
     "execution_count": 6,
     "metadata": {},
     "output_type": "execute_result"
    }
   ],
   "source": [
    "column_names = df.iloc[:,1:].columns\n",
    "column_names"
   ]
  },
  {
   "cell_type": "markdown",
   "id": "6c87769f",
   "metadata": {},
   "source": [
    "### Train - Test Split"
   ]
  },
  {
   "cell_type": "code",
   "execution_count": 7,
   "id": "42baf860",
   "metadata": {},
   "outputs": [],
   "source": [
    "from sklearn.model_selection import train_test_split\n",
    "X_train,X_test,y_train,y_test = train_test_split(X,y,test_size=0.30,random_state=43, stratify=y)"
   ]
  },
  {
   "cell_type": "markdown",
   "id": "5082c093",
   "metadata": {},
   "source": [
    "### Importing Libraries"
   ]
  },
  {
   "cell_type": "code",
   "execution_count": 8,
   "id": "e48c6582",
   "metadata": {},
   "outputs": [],
   "source": [
    "from sklearn.model_selection import RandomizedSearchCV\n",
    "from sklearn.ensemble import RandomForestClassifier\n",
    "from sklearn.ensemble import RandomForestClassifier, AdaBoostClassifier, GradientBoostingClassifier, ExtraTreesClassifier, VotingClassifier\n",
    "from sklearn.linear_model import LogisticRegression\n",
    "from sklearn import svm\n",
    "from sklearn.metrics import classification_report\n",
    "from sklearn.metrics import confusion_matrix\n",
    "from sklearn.metrics import accuracy_score\n",
    "from sklearn.metrics import f1_score, precision_score, accuracy_score, recall_score, roc_curve, roc_auc_score, auc,precision_recall_curve, average_precision_score\n",
    "import xgboost as xgb"
   ]
  },
  {
   "cell_type": "markdown",
   "id": "521b2aa2",
   "metadata": {},
   "source": [
    "### Random Forest"
   ]
  },
  {
   "cell_type": "code",
   "execution_count": 9,
   "id": "adedb026",
   "metadata": {},
   "outputs": [
    {
     "name": "stdout",
     "output_type": "stream",
     "text": [
      "score train RFC:  0.9491074819597417\n",
      "score test RFC:  0.9238263950398583\n"
     ]
    }
   ],
   "source": [
    "RFC = RandomForestClassifier(random_state=42,n_estimators=200,criterion='gini', max_depth=50,\n",
    "                            min_samples_split=10)\n",
    "\n",
    "RFC.fit(X_train,y_train)\n",
    "\n",
    "print(\"score train RFC: \",RFC.score(X_train,y_train))\n",
    "print(\"score test RFC: \",RFC.score(X_test,y_test))"
   ]
  },
  {
   "cell_type": "code",
   "execution_count": 10,
   "id": "19613516",
   "metadata": {},
   "outputs": [
    {
     "name": "stdout",
     "output_type": "stream",
     "text": [
      "              precision    recall  f1-score   support\n",
      "\n",
      "           0       0.94      0.91      0.92       565\n",
      "           1       0.91      0.94      0.93       564\n",
      "\n",
      "    accuracy                           0.92      1129\n",
      "   macro avg       0.92      0.92      0.92      1129\n",
      "weighted avg       0.92      0.92      0.92      1129\n",
      "\n",
      "accuracy RFC:  0.9238263950398583\n",
      "precision RFC:  0.9092465753424658\n",
      "recall RFC:  0.9414893617021277\n",
      "f1 score RFC:  0.9250871080139373\n"
     ]
    },
    {
     "data": {
      "image/png": "[encoded data removed]",
      "text/plain": [
       "<Figure size 432x432 with 1 Axes>"
      ]
     },
     "metadata": {
      "needs_background": "light"
     },
     "output_type": "display_data"
    }
   ],
   "source": [
    "import matplotlib.pyplot as plt\n",
    "import seaborn as sns\n",
    "y_pred_RFC = RFC.predict(X_test)\n",
    "df_cm_RFC= pd.DataFrame(confusion_matrix(y_test,y_pred_RFC), index = [i for i in [\"Non-Avalanche\",  'Avalanche']],columns = [i for i in [\"Non-Avalanche\",  'Avalanche']])\n",
    "fig = plt.figure(figsize=(6, 6))\n",
    "plt.title('RF', size=24)\n",
    "sns.heatmap(df_cm_RFC, annot = True, fmt='g', cmap='Greens', cbar=False, annot_kws={\"size\": 20})\n",
    "fig.savefig('conf_RF.png', dpi=200,bbox_inches='tight')\n",
    "\n",
    "print(classification_report(y_test,y_pred_RFC)) \n",
    "print(\"accuracy RFC: \", accuracy_score(y_test,y_pred_RFC)) \n",
    "print(\"precision RFC: \", precision_score(y_test,y_pred_RFC)) \n",
    "print(\"recall RFC: \", recall_score(y_test,y_pred_RFC)) \n",
    "print(\"f1 score RFC: \", f1_score(y_test,y_pred_RFC)) "
   ]
  },
  {
   "cell_type": "code",
   "execution_count": 11,
   "id": "2df378a0",
   "metadata": {},
   "outputs": [],
   "source": [
    "y_pred_prob_RFC = RFC.predict_proba(X_test)[:,1]\n",
    "fpr_RFC, tpr_RFC, thresholds_RFC = roc_curve(y_test, y_pred_prob_RFC)\n",
    "roc_auc_RFC = auc(fpr_RFC, tpr_RFC)"
   ]
  },
  {
   "cell_type": "markdown",
   "id": "3471fe43",
   "metadata": {},
   "source": [
    "### Gradient Boosting"
   ]
  },
  {
   "cell_type": "code",
   "execution_count": 12,
   "id": "6a435724",
   "metadata": {},
   "outputs": [
    {
     "name": "stdout",
     "output_type": "stream",
     "text": [
      "score train GB:  0.9365742499050512\n",
      "score test GB:  0.9202834366696191\n"
     ]
    }
   ],
   "source": [
    "GB= GradientBoostingClassifier()\n",
    "\n",
    "GB.fit(X_train,y_train)\n",
    "\n",
    "print(\"score train GB: \",GB.score(X_train,y_train))\n",
    "print(\"score test GB: \",GB.score(X_test,y_test))"
   ]
  },
  {
   "cell_type": "code",
   "execution_count": 13,
   "id": "2cc112f5",
   "metadata": {},
   "outputs": [
    {
     "name": "stdout",
     "output_type": "stream",
     "text": [
      "              precision    recall  f1-score   support\n",
      "\n",
      "           0       0.93      0.91      0.92       565\n",
      "           1       0.91      0.93      0.92       564\n",
      "\n",
      "    accuracy                           0.92      1129\n",
      "   macro avg       0.92      0.92      0.92      1129\n",
      "weighted avg       0.92      0.92      0.92      1129\n",
      "\n",
      "accuracy GB:  0.9202834366696191\n",
      "precision GB:  0.9114583333333334\n",
      "recall GB:  0.9308510638297872\n",
      "f1 score GB:  0.9210526315789473\n"
     ]
    },
    {
     "data": {
      "image/png": "[encoded data removed]",
      "text/plain": [
       "<Figure size 432x432 with 1 Axes>"
      ]
     },
     "metadata": {
      "needs_background": "light"
     },
     "output_type": "display_data"
    }
   ],
   "source": [
    "import matplotlib.pyplot as plt\n",
    "import seaborn as sns\n",
    "y_pred_GB = GB.predict(X_test)\n",
    "df_cm_GB= pd.DataFrame(confusion_matrix(y_test,y_pred_GB), index = [i for i in [\"Non-Avalanche\",  'Avalanche']],columns = [i for i in [\"Non-Avalanche\",  'Avalanche']])\n",
    "#df_cm_GB=pd.DataFrame([[61,  8],[ 8, 60]],index = [i for i in [\"Non-Flood\",  'Flood']], columns = [i for i in [\"Non-Flood\",  'Flood']])\n",
    "fig = plt.figure(figsize=(6, 6))\n",
    "plt.title('GB', size=20)\n",
    "sns.heatmap(df_cm_GB, annot = True, fmt='g', cmap='Greens', cbar=False, annot_kws={\"size\": 20})\n",
    "fig.savefig('conf_GB.png', dpi=200,bbox_inches='tight')\n",
    "print(classification_report(y_test,y_pred_GB)) \n",
    "print(\"accuracy GB: \", accuracy_score(y_test,y_pred_GB)) \n",
    "print(\"precision GB: \", precision_score(y_test,y_pred_GB)) \n",
    "print(\"recall GB: \", recall_score(y_test,y_pred_GB)) \n",
    "print(\"f1 score GB: \", f1_score(y_test,y_pred_GB)) "
   ]
  },
  {
   "cell_type": "code",
   "execution_count": 14,
   "id": "960c0c94",
   "metadata": {},
   "outputs": [],
   "source": [
    "y_pred_prob_GB = GB.predict_proba(X_test)[:,1]\n",
    "fpr_GB, tpr_GB, thresholds_GB = roc_curve(y_test, y_pred_prob_GB)\n",
    "roc_auc_GB = auc(fpr_GB, tpr_GB)"
   ]
  },
  {
   "cell_type": "markdown",
   "id": "f808c448",
   "metadata": {},
   "source": [
    "### AdaBoost"
   ]
  },
  {
   "cell_type": "code",
   "execution_count": 15,
   "id": "b14b3cfa",
   "metadata": {},
   "outputs": [
    {
     "name": "stdout",
     "output_type": "stream",
     "text": [
      "score train AB:  0.9156855298139005\n",
      "score test AB:  0.9131975199291408\n"
     ]
    }
   ],
   "source": [
    "from sklearn.ensemble import AdaBoostClassifier\n",
    "AB= AdaBoostClassifier(n_estimators=100, learning_rate=1,algorithm='SAMME.R')\n",
    "\n",
    "AB.fit(X_train,y_train)\n",
    "\n",
    "print(\"score train AB: \",AB.score(X_train,y_train))\n",
    "print(\"score test AB: \",AB.score(X_test,y_test))"
   ]
  },
  {
   "cell_type": "code",
   "execution_count": 16,
   "id": "53ad2f4d",
   "metadata": {},
   "outputs": [
    {
     "name": "stdout",
     "output_type": "stream",
     "text": [
      "              precision    recall  f1-score   support\n",
      "\n",
      "           0       0.91      0.91      0.91       565\n",
      "           1       0.91      0.91      0.91       564\n",
      "\n",
      "    accuracy                           0.91      1129\n",
      "   macro avg       0.91      0.91      0.91      1129\n",
      "weighted avg       0.91      0.91      0.91      1129\n",
      "\n",
      "accuracy AB:  0.9131975199291408\n",
      "precision AB:  0.911660777385159\n",
      "recall AB:  0.9148936170212766\n",
      "f1 score AB:  0.9132743362831858\n"
     ]
    },
    {
     "data": {
      "image/png": "[encoded data removed]",
      "text/plain": [
       "<Figure size 432x432 with 1 Axes>"
      ]
     },
     "metadata": {
      "needs_background": "light"
     },
     "output_type": "display_data"
    }
   ],
   "source": [
    "import matplotlib.pyplot as plt\n",
    "import seaborn as sns\n",
    "y_pred_AB = AB.predict(X_test)\n",
    "df_cm_AB= pd.DataFrame(confusion_matrix(y_test,y_pred_AB), index = [i for i in [\"Non-Avalanche\",  'Avalanche']],columns = [i for i in [\"Non-Avalanche\",  'Avalanche']])\n",
    "fig = plt.figure(figsize=(6, 6))\n",
    "plt.title('AdaBoost', size=20)\n",
    "sns.heatmap(df_cm_AB, annot = True, fmt='g', cmap='Greens', cbar=False, annot_kws={\"size\": 20})\n",
    "fig.savefig('conf_AB.png', dpi=200,bbox_inches='tight')\n",
    "print(classification_report(y_test,y_pred_AB)) \n",
    "print(\"accuracy AB: \", accuracy_score(y_test,y_pred_AB)) \n",
    "print(\"precision AB: \", precision_score(y_test,y_pred_AB)) \n",
    "print(\"recall AB: \", recall_score(y_test,y_pred_AB)) \n",
    "print(\"f1 score AB: \", f1_score(y_test,y_pred_AB)) "
   ]
  },
  {
   "cell_type": "code",
   "execution_count": 17,
   "id": "81b143d9",
   "metadata": {},
   "outputs": [],
   "source": [
    "y_pred_prob_AB = AB.predict_proba(X_test)[:,1]\n",
    "fpr_AB, tpr_AB, thresholds_AB = roc_curve(y_test, y_pred_prob_AB)\n",
    "roc_auc_AB = auc(fpr_AB, tpr_AB)"
   ]
  },
  {
   "cell_type": "markdown",
   "id": "3fbbe8e1",
   "metadata": {},
   "source": [
    "### XGBoost"
   ]
  },
  {
   "cell_type": "code",
   "execution_count": 18,
   "id": "d2bb2876",
   "metadata": {},
   "outputs": [
    {
     "name": "stderr",
     "output_type": "stream",
     "text": [
      "C:\\Users\\muzaf\\anaconda3\\lib\\site-packages\\xgboost\\sklearn.py:1224: UserWarning: The use of label encoder in XGBClassifier is deprecated and will be removed in a future release. To remove this warning, do the following: 1) Pass option use_label_encoder=False when constructing XGBClassifier object; and 2) Encode your labels (y) as integers starting with 0, i.e. 0, 1, 2, ..., [num_class - 1].\n",
      "  warnings.warn(label_encoder_deprecation_msg, UserWarning)\n"
     ]
    },
    {
     "name": "stdout",
     "output_type": "stream",
     "text": [
      "[13:16:35] WARNING: C:/Users/Administrator/workspace/xgboost-win64_release_1.5.0/src/learner.cc:1115: Starting in XGBoost 1.3.0, the default evaluation metric used with the objective 'binary:logistic' was changed from 'error' to 'logloss'. Explicitly set eval_metric if you'd like to restore the old behavior.\n",
      "score train XGB:  0.9908849221420433\n",
      "score test XGB:  0.9149689991142604\n"
     ]
    }
   ],
   "source": [
    "XGB = xgb.XGBClassifier()\n",
    "\n",
    "XGB.fit(X_train,y_train)\n",
    "\n",
    "print(\"score train XGB: \",XGB.score(X_train,y_train))\n",
    "print(\"score test XGB: \",XGB.score(X_test,y_test))"
   ]
  },
  {
   "cell_type": "code",
   "execution_count": 19,
   "id": "82a250bd",
   "metadata": {},
   "outputs": [
    {
     "name": "stdout",
     "output_type": "stream",
     "text": [
      "              precision    recall  f1-score   support\n",
      "\n",
      "           0       0.92      0.91      0.91       565\n",
      "           1       0.91      0.92      0.92       564\n",
      "\n",
      "    accuracy                           0.91      1129\n",
      "   macro avg       0.91      0.91      0.91      1129\n",
      "weighted avg       0.91      0.91      0.91      1129\n",
      "\n",
      "accuracy XGB:  0.9149689991142604\n",
      "precision XGB:  0.9119718309859155\n",
      "recall XGB:  0.9184397163120568\n",
      "f1 score XGB:  0.9151943462897527\n"
     ]
    },
    {
     "data": {
      "image/png": "[encoded data removed]",
      "text/plain": [
       "<Figure size 432x432 with 1 Axes>"
      ]
     },
     "metadata": {
      "needs_background": "light"
     },
     "output_type": "display_data"
    }
   ],
   "source": [
    "import matplotlib.pyplot as plt\n",
    "import seaborn as sns\n",
    "y_pred_XGB = XGB.predict(X_test)\n",
    "df_cm_XGB= pd.DataFrame(confusion_matrix(y_test,y_pred_XGB), index = [i for i in [\"Non-Avalanche\",  'Avalanche']],columns = [i for i in [\"Non-Avalanche\",  'Avalanche']])\n",
    "#df_cm_XGB=pd.DataFrame([[59,  10],[ 7, 61]],index = [i for i in [\"Non-Flood\",  'Flood']],columns = [i for i in [\"Non-Flood\",  'Flood']])\n",
    "fig = plt.figure(figsize=(6, 6))\n",
    "plt.title('XGBoost', size=20)\n",
    "sns.heatmap(df_cm_XGB, annot = True, fmt='g', cmap='Greens', cbar=False, annot_kws={\"size\": 20})\n",
    "fig.savefig('conf_XGB.png', dpi=200,bbox_inches='tight')\n",
    "\n",
    "print(classification_report(y_test,y_pred_XGB)) \n",
    "print(\"accuracy XGB: \", accuracy_score(y_test,y_pred_XGB)) \n",
    "print(\"precision XGB: \", precision_score(y_test,y_pred_XGB)) \n",
    "print(\"recall XGB: \", recall_score(y_test,y_pred_XGB)) \n",
    "print(\"f1 score XGB: \", f1_score(y_test,y_pred_XGB)) "
   ]
  },
  {
   "cell_type": "code",
   "execution_count": 20,
   "id": "d2b392e6",
   "metadata": {},
   "outputs": [],
   "source": [
    "y_pred_prob_XGB = XGB.predict_proba(X_test)[:,1]\n",
    "fpr_XGB, tpr_XGB, thresholds_XGB = roc_curve(y_test, y_pred_prob_XGB)\n",
    "roc_auc_XGB = auc(fpr_XGB, tpr_XGB)"
   ]
  },
  {
   "cell_type": "markdown",
   "id": "d633b66a",
   "metadata": {},
   "source": [
    "### LightGBM"
   ]
  },
  {
   "cell_type": "code",
   "execution_count": 21,
   "id": "ec95524e",
   "metadata": {},
   "outputs": [
    {
     "name": "stdout",
     "output_type": "stream",
     "text": [
      "score train LGB:  0.9821496391948348\n",
      "score test LGB:  0.9185119574844995\n"
     ]
    }
   ],
   "source": [
    "import lightgbm as lgb\n",
    "LGB = lgb.LGBMClassifier()\n",
    "LGB.fit(X_train,y_train)\n",
    "\n",
    "print(\"score train LGB: \",LGB.score(X_train,y_train))\n",
    "print(\"score test LGB: \",LGB.score(X_test,y_test))"
   ]
  },
  {
   "cell_type": "code",
   "execution_count": 22,
   "id": "602b5d21",
   "metadata": {},
   "outputs": [
    {
     "name": "stdout",
     "output_type": "stream",
     "text": [
      "              precision    recall  f1-score   support\n",
      "\n",
      "           0       0.93      0.91      0.92       565\n",
      "           1       0.91      0.93      0.92       564\n",
      "\n",
      "    accuracy                           0.92      1129\n",
      "   macro avg       0.92      0.92      0.92      1129\n",
      "weighted avg       0.92      0.92      0.92      1129\n",
      "\n",
      "accuracy LGB:  0.9185119574844995\n",
      "precision LGB:  0.9111498257839721\n",
      "recall LGB:  0.9273049645390071\n",
      "f1 score LGB:  0.9191564147627417\n"
     ]
    },
    {
     "data": {
      "image/png": "[encoded data removed]",
      "text/plain": [
       "<Figure size 432x432 with 1 Axes>"
      ]
     },
     "metadata": {
      "needs_background": "light"
     },
     "output_type": "display_data"
    }
   ],
   "source": [
    "import matplotlib.pyplot as plt\n",
    "import seaborn as sns\n",
    "y_pred_LGB = LGB.predict(X_test)\n",
    "df_cm_LGB= pd.DataFrame(confusion_matrix(y_test,y_pred_LGB), index = [i for i in [\"Non-Avalanche\",  'Avalanche']],columns = [i for i in [\"Non-Avalanche\",  'Avalanche']])\n",
    "#df_cm_LGB=pd.DataFrame([[62,  7],[ 7, 61]],index = [i for i in [\"Non-Flood\",  'Flood']],columns = [i for i in [\"Non-Flood\",  'Flood']])\n",
    "fig = plt.figure(figsize=(6, 6))\n",
    "plt.title('LightGBM', size=20)\n",
    "sns.heatmap(df_cm_LGB, annot = True, fmt='g', cmap='Greens', cbar=False, annot_kws={\"size\": 20})\n",
    "fig.savefig('conf_LGB.png', dpi=200,bbox_inches='tight')\n",
    "\n",
    "print(classification_report(y_test,y_pred_LGB)) \n",
    "print(\"accuracy LGB: \", accuracy_score(y_test,y_pred_LGB)) \n",
    "print(\"precision LGB: \", precision_score(y_test,y_pred_LGB)) \n",
    "print(\"recall LGB: \", recall_score(y_test,y_pred_LGB)) \n",
    "print(\"f1 score LGB: \", f1_score(y_test,y_pred_LGB)) "
   ]
  },
  {
   "cell_type": "code",
   "execution_count": 23,
   "id": "a71720df",
   "metadata": {},
   "outputs": [],
   "source": [
    "y_pred_prob_LGB = LGB.predict_proba(X_test)[:,1]\n",
    "fpr_LGB, tpr_LGB, thresholds_LGB = roc_curve(y_test, y_pred_prob_LGB)\n",
    "roc_auc_LGB = auc(fpr_LGB, tpr_LGB)"
   ]
  },
  {
   "cell_type": "markdown",
   "id": "50a0c42f",
   "metadata": {},
   "source": [
    "### NGBoost"
   ]
  },
  {
   "cell_type": "code",
   "execution_count": 24,
   "id": "7a295845",
   "metadata": {},
   "outputs": [
    {
     "name": "stdout",
     "output_type": "stream",
     "text": [
      "[iter 0] loss=0.6931 val_loss=0.0000 scale=8.0000 norm=16.0000\n",
      "[iter 100] loss=0.2216 val_loss=0.0000 scale=2.0000 norm=2.9542\n",
      "[iter 200] loss=0.2031 val_loss=0.0000 scale=1.0000 norm=1.5359\n",
      "[iter 300] loss=0.1986 val_loss=0.0000 scale=0.5000 norm=0.7751\n",
      "[iter 400] loss=0.1968 val_loss=0.0000 scale=0.5000 norm=0.7770\n",
      "score train NGB:  0.1962504312977454\n",
      "score test NGB:  0.207306363271689\n"
     ]
    }
   ],
   "source": [
    "from ngboost import NGBClassifier\n",
    "NGB = NGBClassifier()\n",
    "NGB.fit(X_train,y_train)\n",
    "\n",
    "print(\"score train NGB: \",NGB.score(X_train,y_train))\n",
    "print(\"score test NGB: \",NGB.score(X_test,y_test))"
   ]
  },
  {
   "cell_type": "code",
   "execution_count": 25,
   "id": "8d2255bf",
   "metadata": {},
   "outputs": [
    {
     "name": "stdout",
     "output_type": "stream",
     "text": [
      "              precision    recall  f1-score   support\n",
      "\n",
      "           0       0.93      0.91      0.92       565\n",
      "           1       0.91      0.93      0.92       564\n",
      "\n",
      "    accuracy                           0.92      1129\n",
      "   macro avg       0.92      0.92      0.92      1129\n",
      "weighted avg       0.92      0.92      0.92      1129\n",
      "\n",
      "accuracy NGB:  0.9185119574844995\n",
      "precision NGB:  0.9097222222222222\n",
      "recall NGB:  0.9290780141843972\n",
      "f1 score NGB:  0.9192982456140351\n"
     ]
    },
    {
     "data": {
      "image/png": "[encoded data removed]",
      "text/plain": [
       "<Figure size 432x432 with 1 Axes>"
      ]
     },
     "metadata": {
      "needs_background": "light"
     },
     "output_type": "display_data"
    }
   ],
   "source": [
    "import matplotlib.pyplot as plt\n",
    "import seaborn as sns\n",
    "y_pred_NGB = NGB.predict(X_test)\n",
    "df_cm_NGB= pd.DataFrame(confusion_matrix(y_test,y_pred_NGB), index = [i for i in [\"Non-Avalanche\",  'Avalanche']], columns = [i for i in [\"Non-Avalanche\",  'Avalanche']])\n",
    "fig = plt.figure(figsize=(6, 6))\n",
    "plt.title('NGBoost', size=20)\n",
    "sns.heatmap(df_cm_NGB, annot = True, fmt='g', cmap='Greens', cbar=False, annot_kws={\"size\": 20})\n",
    "fig.savefig('conf_NGB.png', dpi=200,bbox_inches='tight')\n",
    "\n",
    "print(classification_report(y_test,y_pred_NGB)) \n",
    "print(\"accuracy NGB: \", accuracy_score(y_test,y_pred_NGB)) \n",
    "print(\"precision NGB: \", precision_score(y_test,y_pred_NGB)) \n",
    "print(\"recall NGB: \", recall_score(y_test,y_pred_NGB)) \n",
    "print(\"f1 score NGB: \", f1_score(y_test,y_pred_NGB)) "
   ]
  },
  {
   "cell_type": "code",
   "execution_count": 26,
   "id": "080f813d",
   "metadata": {},
   "outputs": [],
   "source": [
    "y_pred_prob_NGB = NGB.predict_proba(X_test)[:,1]\n",
    "fpr_NGB, tpr_NGB, thresholds_NGB = roc_curve(y_test, y_pred_prob_NGB)\n",
    "roc_auc_NGB = auc(fpr_NGB, tpr_NGB)"
   ]
  },
  {
   "cell_type": "markdown",
   "id": "78e41d2a",
   "metadata": {},
   "source": [
    "### ROC Curves"
   ]
  },
  {
   "cell_type": "code",
   "execution_count": 28,
   "id": "ae4f5b0f",
   "metadata": {},
   "outputs": [
    {
     "data": {
      "image/png": "[encoded data removed]",
      "text/plain": [
       "<Figure size 720x720 with 1 Axes>"
      ]
     },
     "metadata": {
      "needs_background": "light"
     },
     "output_type": "display_data"
    }
   ],
   "source": [
    "plt.figure(figsize=(10,10))\n",
    "plt.plot(fpr_RFC, tpr_RFC, label=r'$\\bf{}$'.format('RF')+ '    (AUC = %0.4f)' % roc_auc_RFC, color='b', linewidth=3)\n",
    "plt.plot(fpr_GB, tpr_GB, label=r'$\\bf{}$'.format('GB')+ '    (AUC = %0.4f)' % roc_auc_GB,  color='orange', linewidth=3)\n",
    "plt.plot(fpr_LGB, tpr_LGB, label=r'$\\bf{}$'.format('LightGBM')+ ' (AUC = %0.4f)' % roc_auc_LGB, color='g', linewidth=3)\n",
    "plt.plot(fpr_XGB, tpr_XGB, label=r'$\\bf{}$'.format('XGBoost')+ ' (AUC = %0.4f)' % roc_auc_XGB, color='maroon', linewidth=3)\n",
    "plt.plot(fpr_NGB, tpr_NGB, label=r'$\\bf{}$'.format('NGBoost')+ '    (AUC = %0.4f)' % roc_auc_NGB,  color='darkkhaki', linewidth=3)\n",
    "plt.plot(fpr_AB, tpr_AB, label=r'$\\bf{}$'.format('AdaBoost')+ '    (AUC = %0.4f)' % roc_auc_AB, color='r', linewidth=3)\n",
    "\n",
    "plt.xlabel('False Positive Rate', size=20, labelpad=10)\n",
    "plt.ylabel('True Positive Rate', size=20, labelpad=10)\n",
    "plt.legend(loc='lower right',\n",
    "          fancybox=True, shadow=False, ncol=1,fontsize='xx-large')\n",
    "plt.xlim(-0.03,1.03)\n",
    "plt.ylim(-0.03,1.03)\n",
    "plt.xticks(fontsize=15)\n",
    "plt.yticks(fontsize=15)\n",
    "plt.tick_params(labeltop=False, labelright=False)\n",
    "plt.savefig('ROC.jpg', dpi=400)\n",
    "plt.show()"
   ]
  }
 ],
 "metadata": {
  "kernelspec": {
   "display_name": "Python 3",
   "language": "python",
   "name": "python3"
  },
  "language_info": {
   "codemirror_mode": {
    "name": "ipython",
    "version": 3
   },
   "file_extension": ".py",
   "mimetype": "text/x-python",
   "name": "python",
   "nbconvert_exporter": "python",
   "pygments_lexer": "ipython3",
   "version": "3.8.8"
  }
 },
 "nbformat": 4,
 "nbformat_minor": 5
}
